{
 "cells": [
  {
   "cell_type": "code",
   "execution_count": 177,
   "metadata": {},
   "outputs": [
    {
     "name": "stdout",
     "output_type": "stream",
     "text": [
      "Populating the interactive namespace from numpy and matplotlib\n"
     ]
    },
    {
     "name": "stderr",
     "output_type": "stream",
     "text": [
      "//anaconda/lib/python2.7/site-packages/IPython/core/magics/pylab.py:161: UserWarning: pylab import has clobbered these variables: ['step']\n",
      "`%matplotlib` prevents importing * from pylab and numpy\n",
      "  \"\\n`%matplotlib` prevents importing * from pylab and numpy\"\n"
     ]
    }
   ],
   "source": [
    "%pylab inline\n",
    "%matplotlib inline\n",
    "import matplotlib.pyplot as plt\n",
    "import matplotlib.patches as patches\n",
    "from ipywidgets import interact\n",
    "import os\n",
    "\n",
    "def returnActionModification(action):\n",
    "    m1 = 0\n",
    "    m2 = 0\n",
    "    m3 = 0\n",
    "    m4 = 0\n",
    "    if action == 5:\n",
    "        m3 = 0.5\n",
    "    elif action == 3:\n",
    "        m1 = 0.5\n",
    "    elif action == 2:\n",
    "        m2 = -0.5\n",
    "    elif action == 4:\n",
    "        m4 = -0.5\n",
    "    return m1, m2, m3, m4\n",
    "    "
   ]
  },
  {
   "cell_type": "code",
   "execution_count": 214,
   "metadata": {},
   "outputs": [],
   "source": [
    "def returnPathsActions(scenario):\n",
    "    paths_b = array([[]]),\n",
    "    if scenario == 1:\n",
    "        # scenario number 1,: Strong wants cherrry, weak wants cheese, no amb\n",
    "        paths_s = array([[1, 2, 2, 2, 2, 2, 2, 2, 2, 2, 2, 2, 2, 2, 2, 2,  ],\n",
    "            [     1, 1, 2, 3, 4, 5, 6, 6, 6, 6, 6, 6, 6, 6, 6, 6, ]])\n",
    "\n",
    "        paths_w = array([[7, 7, 7, 6, 6, 6, 6, 6, 6, 6, 6, 6, 6, 6, 6, 6,  ],\n",
    "            [     1, 1, 1, 1, 2, 3, 3, 3, 4, 4, 5, 6, 6, 6, 6, 6, ]])\n",
    "\n",
    "        actions_s = array([[3, 5, 5, 5, 5, 5, 1, 1, 1, 1, 1, 1, 1, 1, 1, ]])\n",
    "\n",
    "        actions_w = array([[5, 2, 2, 5, 5, 5, 5, 5, 5, 5, 5, 1, 1, 1, 1, ]])\n",
    "\n",
    "        best_k = array([[3, 4, 6,]])\n",
    "\n",
    "    elif scenario == 2:\n",
    "        ## scenario number 2,: Strong wants cheese, weak wants cherry. Amb between hinder and two goals\n",
    "        ## case 2,\n",
    "        paths_s = array([[1, 1, 2, 3, 4, 5, 6, 6, 6, 6, 6, 6, 6, 6, 6, 6,  ],\n",
    "            [     1, 2, 2, 2, 2, 2, 2, 3, 4, 5, 6, 6, 6, 6, 6, 6, ]])\n",
    "\n",
    "        paths_w = array([[7, 7, 7, 6, 6, 6, 7, 6, 5, 5, 4, 3, 3, 2, 2, 2,  ],\n",
    "            [     1, 1, 1, 1, 2, 2, 2, 2, 2, 2, 2, 2, 2, 2, 3, 4, ]])\n",
    "\n",
    "        actions_s = array([[5, 3, 3, 3, 3, 3, 5, 5, 5, 5, 1, 1, 1, 1, 1, ]])\n",
    "\n",
    "        actions_w = array([[5, 2, 2, 5, 2, 2, 2, 2, 2, 2, 2, 2, 2, 5, 5, ]])\n",
    "\n",
    "        best_k = array([[4, 7, 8,]])\n",
    "\n",
    "    elif scenario == 3:\n",
    "        ## scenario number 3,: Strong and weak want cherry, weak gets there first, strong pushes weak off cherry\n",
    "\n",
    "        paths_s = array([[1, 1, 2, 2, 2, 2, 2, 2, 2, 2, 2, 2, 2, 2, 2, 2,  ],\n",
    "            [     1, 2, 2, 3, 4, 5, 6, 6, 6, 6, 6, 6, 6, 6, 6, 6, ]])\n",
    "\n",
    "        paths_w = array([[1, 2, 2, 2, 2, 2, 2, 2, 2, 2, 2, 2, 2, 2, 2, 2,          ],\n",
    "            [     7, 7, 7, 7, 6, 6, 7, 7, 7, 7, 7, 7, 7, 7, 7, 7, ]])\n",
    "\n",
    "        actions_s = array([[5, 3, 5, 5, 5, 5, 1, 1, 1, 1, 1, 1, 1, 1, 1,  ]])\n",
    "\n",
    "        actions_w = array([[3, 4, 4, 4, 1, 1, 4, 4, 4, 4, 4, 4, 4, 4, 4,  ]])\n",
    "\n",
    "        best_k = array([[3, 6, 8,]])\n",
    "\n",
    "    elif scenario == 4:\n",
    "        ## scenario number 4,: Strong and weak want cherry, strong gets there first, weak feebly tries to get on it\n",
    "\n",
    "        paths_s = array([[1, 2, 2, 2, 2, 2, 2, 2, 2, 2, 2, 2, 2, 2, 2, 2,  ],\n",
    "            [     1, 1, 2, 3, 4, 5, 6, 6, 6, 6, 6, 6, 6, 6, 6, 6, ]])\n",
    "\n",
    "        paths_w = array([[6, 6, 6, 5, 5, 5, 4, 4, 3, 3, 3, 3, 3, 3, 3, 3, ],\n",
    "            [     4, 4, 5, 5, 6, 6, 6, 6, 6, 6, 6, 6, 6, 6, 6, 6, ]])\n",
    "\n",
    "\n",
    "        actions_s = array([[3, 5, 5, 5, 5, 5, 1, 1, 1, 1, 1, 1, 1, 1, 1, ]])\n",
    "\n",
    "        actions_w = array([[5, 5, 2, 5, 2, 2, 2, 2, 2, 2, 2, 2, 2, 2, 2, ]])\n",
    "\n",
    "        best_k = array([[3, 7, 8,]])\n",
    "\n",
    "    elif scenario == 5:\n",
    "        ## scenario number 5,: Strong wants to get to cheese and happens to push weak onto the cherry, its goal\n",
    "\n",
    "        paths_s = array([[1, 1, 2, 2, 2, 2, 3, 3, 4, 5, 6, 6, 6, 6, 6, 6, ],\n",
    "            [     1, 2, 2, 3, 4, 5, 5, 6, 6, 6, 6, 6, 6, 6, 6, 6, ]]) \n",
    "\n",
    "        paths_w = array([[2, 2, 2, 2, 2, 2, 2, 2, 2, 2, 2, 2, 2, 2, 2, 2,          ],\n",
    "            [     4, 4, 4, 5, 5, 6, 6, 6, 6, 6, 6, 6, 6, 6, 6, 6, ]])\n",
    "\n",
    "        actions_s = array([[5, 3, 5, 5, 5, 3, 5, 3, 3, 3, 1, 1, 1, 1, 1, ]])\n",
    "\n",
    "        actions_w = array([[5, 5, 5, 5, 5, 1, 1, 1, 1, 1, 1, 1, 1, 1, 1, ]])\n",
    "\n",
    "        best_k = array([[5, 6, 8,]])\n",
    "\n",
    "    elif scenario == 6:\n",
    "          # Scenario 6,:\n",
    "\n",
    "        # S comes from top right to hinder W, blocking at 2,4, W comes from 1,1,. \n",
    "\n",
    "        paths_s =   array([[7, 7, 6, 5, 4, 3, 2, 2, 2, 2, 2, 2, 2, 2, 2, 2,  ],\n",
    "            [       7, 6, 6, 6, 6, 6, 6, 5, 4, 4, 4, 4, 4, 4, 4, 4, ]])\n",
    "\n",
    "        paths_w =   array([[1, 1, 2, 2, 2, 2, 2, 2, 2, 2, 2, 2, 2, 2, 2, 2, ],\n",
    "            [       1, 1, 1, 1, 1, 2, 2, 3, 3, 3, 3, 3, 3, 3, 3, 3, ]])\n",
    "\n",
    "        actions_s =  array([[4, 2, 2, 2, 2, 2, 4, 4, 1, 1, 1, 1, 1, 1, 1, ]])\n",
    "\n",
    "        actions_w =  array([[3, 3, 5, 5, 5, 5, 5, 5, 5, 5, 5, 5, 5, 5, 5,  ]])\n",
    "\n",
    "        best_k = array([[4, 7, 8,]])\n",
    "\n",
    "    elif scenario == 7:\n",
    "        # Scenario 7,:\n",
    "        # S comes long way to help W\n",
    "        paths_s =   array([[6, 6, 6, 5, 4, 3, 3, 2, 2, 2, 2, 2, 2, 2, 2, 2,  ],\n",
    "            [       4, 3, 2, 2, 2, 2, 1, 1, 2, 3, 4, 5, 5, 5, 5, 5, ]])\n",
    "\n",
    "        paths_w =   array([[1, 1, 2, 2, 2, 2, 2, 2, 2, 2, 2, 2, 2, 2, 2, 2, ],\n",
    "            [       1, 1, 1, 1, 1, 2, 2, 2, 3, 4, 5, 6, 6, 6, 6, 6, ]])\n",
    "\n",
    "        actions_s =  array([[4, 4, 2, 2, 2, 4, 2, 5, 5, 5, 5, 1, 1, 1, 1, ]])\n",
    "\n",
    "        actions_w =  array([[3, 3, 5, 5, 5, 5, 5, 5, 5, 5, 5, 1, 1, 1, 1, ]])\n",
    "\n",
    "        best_k = array([[3, 6, 7,]])\n",
    "\n",
    "    elif scenario == 8:\n",
    "        ## scenario number 8,: Strong gets out of the way to help weak get to cheese\n",
    "\n",
    "        paths_s = array([[6, 6, 7, 7, 7, 7, 7, 7, 7, 7, 7, 7, 7, 7, 7, 7, ],\n",
    "            [     4, 5, 5, 5, 5, 5, 5, 5, 5, 5, 5, 5, 5, 5, 5, 5, ]])\n",
    "\n",
    "        paths_w = array([[6, 6, 6, 6, 6, 6, 6, 6, 6, 6, 6, 6, 6, 6, 6, 6, ],\n",
    "            [     2, 3, 4, 4, 5, 5, 6, 6, 6, 6, 6, 6, 6, 6, 6, 6, ]])\n",
    "\n",
    "\n",
    "        actions_s = array([[5, 3, 1, 1, 1, 1, 1, 1, 1, 1, 1, 1, 1, 1, 1, ]])\n",
    "\n",
    "        actions_w = array([[5, 5, 5, 5, 5, 5, 1, 1, 1, 1, 1, 1, 1, 1, 1,]])\n",
    "\n",
    "        best_k = array([[3, 4, 5,]])\n",
    "\n",
    "    elif scenario == 9:\n",
    "        # Scenario 9:\n",
    "        # S pushes W to its goal in order to set up a hinder push \n",
    "\n",
    "        paths_s =   array([[ 7, 7, 6, 5, 4, 3, 3, 2, 2, 2, 2, 2, 2, 2, 2, 2, ],\n",
    "            [        7, 6, 6, 6, 6, 6, 7, 7, 6, 5, 4, 3, 2, 2, 2, 2, ]])   \n",
    "\n",
    "        paths_w =   array([[ 5, 5, 4, 4, 3, 2, 2, 2, 2, 2, 2, 2, 2, 2, 2, 2, ],\n",
    "            [        6, 6, 6, 6, 6, 6, 6, 6, 5, 4, 3, 2, 1, 1, 1, 1, ]])\n",
    "\n",
    "        actions_s =   array([[ 4, 2, 2, 2, 2, 5, 2, 4, 4, 4, 4, 4, 1, 1, 1, ]])\n",
    "\n",
    "        actions_w =   array([[ 2, 2, 2, 2, 2, 1, 1, 1, 5, 5, 5, 5, 5, 5, 5, ]])\n",
    "\n",
    "        best_k = array([[4, 6, 8,]])\n",
    "\n",
    "    elif scenario == 10:\n",
    "        # Scenario 1,0:\n",
    "        # S moves to block cherry door, moving across cherry\n",
    "\n",
    "        paths_s =   array([[ 1, 2, 2, 2, 2, 2, 2, 2, 2, 2, 2, 2, 2, 2, 2, 2, ],\n",
    "            [        7, 7, 6, 5, 4, 4, 4, 4, 4, 4, 4, 4, 4, 4, 4, 4, ]])\n",
    "\n",
    "        paths_w =   array([[ 1, 1, 2, 2, 2, 2, 2, 2, 2, 2, 2, 2, 2, 2, 2, 2, ],\n",
    "            [        1, 1, 1, 2, 2, 3, 3, 3, 3, 3, 3, 3, 3, 3, 3, 3, ]])\n",
    "\n",
    "        actions_s =   array([[ 3, 4, 4, 4, 1, 1, 1, 1, 1, 1, 1, 1, 1, 1, 1, ]])\n",
    "\n",
    "        actions_w =   array([[ 3, 3, 5, 5, 5, 5, 5, 5, 5, 5, 5, 5, 5, 5, 5, ]])\n",
    "\n",
    "        best_k = array([[3, 4, 5,]])\n",
    "\n",
    "    elif scenario == 11:\n",
    "        # Scenario 1,1,:\n",
    "        # S pushes W onto cheese to set up a push onto the cherry\n",
    "\n",
    "        paths_s =   array([[ 7, 6, 6, 6, 6, 6, 7, 7, 6, 5, 4, 3, 3, 3, 3, 3,  ],\n",
    "            [        1, 1, 2, 3, 4, 5, 5, 6, 6, 6, 6, 6, 6, 6, 6, 6, ]])\n",
    "\n",
    "        paths_w =   array([[ 6, 6, 6, 6, 6, 6, 5, 5, 4, 4, 3, 2, 2, 2, 2, 2, ],\n",
    "            [        4, 4, 4, 5, 5, 6, 6, 6, 6, 6, 6, 6, 6, 6, 6, 6, ]])\n",
    "\n",
    "        actions_s =   array([[ 2, 5, 5, 5, 5, 3, 5, 2, 2, 2, 2, 1, 1, 1, 1, ]])\n",
    "\n",
    "        actions_w =   array([[ 5, 5, 5, 5, 1, 2, 2, 2, 2, 2, 2, 1, 1, 1, 1, ]])\n",
    "\n",
    "        best_k = array([[3, 7, 8,]])\n",
    "\n",
    "    elif scenario == 12:\n",
    "        # Scenario 1,2,:\n",
    "        # flip ## case of 2, resolves to hinder\n",
    "\n",
    "        paths_s =   array([[ 1, 1, 2, 3, 4, 5, 6, 6, 6, 5, 5, 5, 5, 5, 6, 6,  ],\n",
    "            [        1, 2, 2, 2, 2, 2, 2, 3, 2, 2, 2, 2, 2, 2, 2, 2, ]])  \n",
    "\n",
    "        paths_w =   array([[ 7, 7, 7, 6, 5, 6, 7, 6, 6, 5, 5, 5, 5, 6, 6, 6,  ],\n",
    "            [        1, 2, 2, 2, 2, 2, 2, 2, 1, 1, 1, 1, 1, 1, 1, 1, ]])\n",
    "\n",
    "        actions_s =   array([[ 5, 3, 3, 3, 3, 3, 5, 4, 2, 1, 1, 1, 1, 3, 1, ]]) \n",
    "\n",
    "        actions_w =   array([[ 5, 2, 2, 2, 2, 2, 2, 5, 2, 5, 5, 5, 3, 5, 5, ]])\n",
    "\n",
    "        best_k = array([[3, 5, 8,]])\n",
    "\n",
    "\n",
    "    elif scenario == 13:\n",
    "        ## sc 1, with idle boulder: Strong wants cherrry, weak wants cheese, no amb\n",
    "\n",
    "        paths_s = array([[1, 2, 2, 2, 2, 2, 2, 2, 2, 2, 2, 2, 2, 2, 2, 2,  ],\n",
    "            [     1, 1, 2, 3, 4, 5, 6, 6, 6, 6, 6, 6, 6, 6, 6, 6, ]])\n",
    "\n",
    "        paths_w = array([[7, 7, 7, 6, 6, 6, 6, 6, 6, 6, 6, 6, 6, 6, 6, 6,  ],\n",
    "            [     1, 1, 1, 1, 2, 3, 3, 3, 4, 4, 5, 6, 6, 6, 6, 6, ]])\n",
    "\n",
    "        paths_b = array([[3, 3, 3, 3, 3, 3, 3, 3, 3, 3, 3, 3, 3, 3, 3, 3,  ],\n",
    "            [     2, 2, 2, 2, 2, 2, 2, 2, 2, 2, 2, 2, 2, 2, 2, 2, ]])\n",
    "\n",
    "        actions_s = array([[3, 5, 5, 5, 5, 5, 1, 1, 1, 1, 1, 1, 1, 1, 1, ]])\n",
    "\n",
    "        actions_w = array([[5, 2, 2, 5, 5, 5, 5, 5, 5, 5, 5, 1, 1, 1, 1, ]])\n",
    "\n",
    "        best_k = array([[3, 5, 7,]])\n",
    "\n",
    "\n",
    "    elif scenario == 14:\n",
    "        ## sc 4, with idle boulder: Strong and weak want cherry, strong gets there first, weak feebly tries to get on it\n",
    "\n",
    "        paths_s = array([[1, 2, 2, 2, 2, 2, 2, 2, 2, 2, 2, 2, 2, 2, 2, 2,  ],\n",
    "            [     1, 1, 2, 3, 4, 5, 6, 6, 6, 6, 6, 6, 6, 6, 6, 6, ]])\n",
    "\n",
    "        paths_w = array([[6, 6, 6, 5, 5, 5, 4, 4, 3, 3, 3, 3, 3, 3, 3, 3, ],\n",
    "            [     4, 4, 5, 5, 6, 6, 6, 6, 6, 6, 6, 6, 6, 6, 6, 6, ]])\n",
    "\n",
    "        paths_b = array([[3, 3, 3, 3, 3, 3, 3, 3, 3, 3, 3, 3, 3, 3, 3, 3,  ],\n",
    "            [     5, 5, 5, 5, 5, 5, 5, 5, 5, 5, 5, 5, 5, 5, 5, 5, ]])\n",
    "\n",
    "        actions_s = array([[3, 5, 5, 5, 5, 5, 1, 1, 1, 1, 1, 1, 1, 1, 1, ]])\n",
    "\n",
    "        actions_w = array([[5, 5, 2, 5, 2, 2, 2, 2, 2, 2, 2, 2, 2, 2, 2, ]])\n",
    "\n",
    "        best_k = array([[3, 5, 7,]])\n",
    "\n",
    "\n",
    "    elif scenario == 15:\n",
    "        # Sc 7, with idle boulder\n",
    "\n",
    "        # S comes long way to help W\n",
    "\n",
    "        paths_s =   array([[6, 6, 6, 5, 4, 3, 3, 2, 2, 2, 2, 2, 2, 2, 2, 2,  ],\n",
    "            [       4, 3, 2, 2, 2, 2, 1, 1, 2, 3, 4, 5, 5, 5, 5, 5, ]])\n",
    "\n",
    "        paths_w =   array([[1, 1, 2, 2, 2, 2, 2, 2, 2, 2, 2, 2, 2, 2, 2, 2,  ],\n",
    "            [       1, 1, 1, 1, 1, 2, 2, 2, 3, 4, 5, 6, 6, 6, 6, 6,  ]])\n",
    "\n",
    "        paths_b =   array([[5, 5, 5, 5, 5, 5, 5, 5, 5, 5, 5, 5, 5, 5, 5, 5,  ],\n",
    "            [       6, 6, 6, 6, 6, 6, 6, 6, 6, 6, 6, 6, 6, 6, 6, 6, ]])\n",
    "\n",
    "        actions_s =  array([[4, 4, 2, 2, 2, 4, 2, 5, 5, 5, 5, 1, 1, 1, 1, ]])\n",
    "\n",
    "        actions_w =  array([[3, 3, 5, 5, 5, 5, 5, 5, 5, 5, 5, 1, 1, 1, 1, ]])\n",
    "\n",
    "        best_k = array([[4, 6, 7,]])\n",
    "\n",
    "    elif scenario == 16:\n",
    "\n",
    "        # boulder1,_boulder \n",
    "        #strong and weak start in bottom-left, with boulder blocking top-left. strong pushes boulder beyond left-goal.\n",
    "\n",
    "\n",
    "        paths_s =  array([[2, 2, 2, 2, 2, 3, 3, 3, 3, 3, 3, 3, 3, 3, 3, 3, ],\n",
    "            [      2, 3, 4, 5, 6, 6, 6, 6, 6, 6, 6, 6, 6, 6, 6, 6,]])\n",
    "\n",
    "        actions_s = array([[5, 5, 5, 5, 3, 1, 1, 1, 1, 1, 1, 1, 1, 1, 1,]])\n",
    "\n",
    "        paths_w = array([[3, 3, 2, 2, 2, 2, 2, 2, 2, 2, 2, 2, 2, 2, 2, 2,],\n",
    "            [     2, 2, 2, 2, 3, 4, 4, 5, 6, 6, 6, 6, 6, 6, 6, 6,]])\n",
    "\n",
    "        actions_w =array([[2, 2, 5, 5, 5, 5, 5, 5, 1, 1, 1, 1, 1, 1, 1,]])\n",
    "\n",
    "\n",
    "        paths_b = array([[2, 2, 2, 2, 2, 2, 2, 2, 2, 2, 2, 2, 2, 2, 2, 2,],\n",
    "            [     4, 4, 5, 6, 7, 7, 7, 7, 7, 7, 7, 7, 7, 7, 7, 7,]])\n",
    "\n",
    "        best_k = array([[4, 6, 7,]])\n",
    "        \n",
    "    elif scenario == 17:\n",
    "        # Boulder hinder II\n",
    "        # Boulder gets pushed onto cherries. Strong retires to avoid accidentally nudging boulder.\n",
    "\n",
    "\n",
    "        paths_s = array([[6, 6, 5, 4, 3, 3, 3, 3, 3, 3, 3, 3, 3, 3, 3, ],\n",
    "            [     5, 6, 6, 6, 6, 7, 7, 7, 7, 7, 7, 7, 7, 7, 7,]])\n",
    "\n",
    "        actions_s = array([[5, 2, 2, 2, 5, 1, 1, 1, 1, 1, 1, 1, 1, 1,]])\n",
    "\n",
    "\n",
    "        paths_w = array([[2, 2, 2, 2, 2, 2, 2, 2, 2, 2, 2, 2, 2, 2, 2, ],\n",
    "            [     2, 2, 3, 3, 4, 5, 5, 5, 5, 5, 5, 5, 5, 5, 5,]])\n",
    "\n",
    "        actions_w = array([[5, 5, 5, 5, 5, 1, 1, 1, 1, 1, 1, 1, 1, 1]])\n",
    "\n",
    "\n",
    "        paths_b = array([[5, 5, 4, 3, 2, 2, 2, 2, 2, 2, 2, 2, 2, 2, 2,],\n",
    "            [     6, 6, 6, 6, 6, 6, 6, 6, 6, 6, 6, 6, 6, 6, 6,]])\n",
    "\n",
    "    elif scenario == 18:\n",
    "        # variant: boulder blocks W's entrance and weak reverts to other entrance. needs to be extended\n",
    "\n",
    "\n",
    "        paths_s =array([[6, 6, 5, 4, 3, 3, 2, 2, 2, 2, 2, 2, 2, 2, 2, ],\n",
    "                    [    5, 6, 6, 6, 6, 7, 7, 6, 6, 6, 6, 6, 6, 6, 6,]])\n",
    "\n",
    "        actions_s =array([[5, 2, 2, 2, 5, 2, 4, 4, 1, 1, 1, 1, 1, 1,]])\n",
    "\n",
    "\n",
    "        paths_w = array([[2, 2, 2, 2, 2, 2, 2, 2, 2, 2, 2, 3, 3, 4, 4, ],\n",
    "                    [     2, 2, 3, 3, 4, 4, 3, 3, 3, 2, 2, 2, 2, 2, 2,]])\n",
    "\n",
    "        actions_w =array([[5, 5, 5, 5, 5, 4, 4, 4, 4, 3, 3, 3, 3, 3]])\n",
    "\n",
    "\n",
    "        paths_b = array([[5, 5, 4, 3, 2, 2, 2, 2, 2, 2, 2, 2, 2, 2, 2,],\n",
    "            [     6, 6, 6, 6, 6, 6, 5, 5, 5, 5, 5, 5, 5, 5, 5,]])\n",
    "\n",
    "    elif scenario == 19:\n",
    "        # the above can be adapted to a locking-in hinder ## case in which 4,,2, is blocked. another possibility is # just to have a second boulder in 4,,2,\n",
    "\n",
    "        # assuming naming is the same the same it would look as follows\n",
    "\n",
    "        paths_s = array([[6, 6, 5, 4, 3, 3, 2, 2, 2, 2, 2, 2, 2, 2, 2, ],\n",
    "            [   5, 6, 6, 6, 6, 7, 7, 6, 5, 5, 5, 5, 5, 5, 5,]])\n",
    "\n",
    "        actions_s = array([[5, 2, 2, 2, 5, 2, 4, 4, 4, 1, 1, 1, 1, 1,]])\n",
    "\n",
    "\n",
    "        paths_w = array([[2, 2, 2, 2, 2, 2, 2, 2, 2, 2, 2, 2, 2, 2, 2, ],\n",
    "                      [   1, 1, 2, 2, 2, 3, 3, 3, 3, 3, 3, 3, 3, 3, 3,]])\n",
    "\n",
    "        actions_w = array([[5, 5, 5, 5, 5, 5, 5, 5, 1, 1, 1, 1, 1,1]])\n",
    "\n",
    "\n",
    "        paths_b = array([[5, 5, 4, 3, 2, 2, 2, 2, 2, 2, 2, 2, 2, 2, 2,],\n",
    "            [   6, 6, 6, 6, 6, 6, 5, 4, 4, 4, 4, 4, 4, 4, 4,]])\n",
    "\n",
    "        # paths_b2,= array([[4, 4, 4, 4, 4, 4, 4, 4, 4, 4, 4, 4, 4, 4, 4,],\n",
    "        # \t     2, 2, 2, 2, 2, 2, 2, 2, 2, 2, 2, 2, 2, 2, 2,]])\n",
    "\n",
    "    elif scenario == 20:\n",
    "\n",
    "        # Boulder-Help---trapped in by boulders on bottom level (pushing)\n",
    "\n",
    "\n",
    "        paths_s = array([[1, 2, 3, 3, 2, 2, 2, 2, 2, 2, 2, 2, 2, 2, 2, ],\n",
    "                      [   1, 1, 1, 2, 2, 1, 1, 2, 3, 4, 5, 5, 5, 5, 5,]])\n",
    "\n",
    "        actions_s = array([[3, 3, 5, 2, 4, 1, 5, 5, 5, 5, 1, 1, 1, 1,]])\n",
    "\n",
    "\n",
    "        paths_w = array([[4, 4, 4, 4, 4, 3, 2, 2, 2, 2, 2, 2, 2, 2, 2, ],\n",
    "                      [   2, 2, 2, 2, 2, 2, 2, 3, 4, 5, 6, 6, 6, 6, 6,]])\n",
    "\n",
    "        actions_w = array([[3, 3, 3, 3, 3, 3, 5, 5, 5, 5, 1, 1, 1,1]])\n",
    "\n",
    "\n",
    "        paths_b = array([[3, 3, 3, 3, 3, 3, 3, 3, 3, 3, 3, 3, 3, 3, 3,],\n",
    "            [   2, 2, 2, 3, 3, 3, 3, 3, 3, 3, 3, 3, 3, 3, 3,]])\n",
    "\n",
    "        #     paths_b2, = array([[5, 5, 5, 5, 5, 5, 5, 5, 5, 5, 5, 5, 5, 5, 5,],\n",
    "        #            [     2, 2, 2, 2, 2, 2, 2, 2, 2, 2, 2, 2, 2, 2, 2,]])\n",
    "\n",
    "\n",
    "    elif scenario == 21:\n",
    "        # Boulder-Help---trapped in by boulders on top level (no pushing)\n",
    "\n",
    "\n",
    "        paths_s = array([[1, 2, 3, 3, 3, 3, 3, 3, 3, 3, 3, 3, 3, 3, 3, ],\n",
    "            [   7, 7, 7, 6, 7, 7, 7, 7, 7, 7, 7, 7, 7, 7, 7,]])\n",
    "\n",
    "        actions_s = array([[3, 3, 4, 5, 1, 1, 1, 1, 1, 1, 1, 1, 1, 1,]])\n",
    "\n",
    "\n",
    "        paths_w = array([[4, 4, 4, 4, 4, 3, 3, 2, 2, 2, 2, 2, 2, 2, 2, ],\n",
    "            [   6, 6, 6, 6, 6, 6, 6, 5, 5, 5, 5, 5, 5, 5, 5,]])\n",
    "\n",
    "        actions_w = array([[3, 3, 3, 3, 3, 3, 3, 1, 1, 1, 1, 1, 1, 1,]])\n",
    "\n",
    "\n",
    "        paths_b = array([[3, 3, 3, 3, 3, 3, 3, 3, 3, 3, 3, 3, 3, 3, 3,],\n",
    "            [   6, 6, 6, 5, 5, 5, 5, 5, 5, 5, 5, 5, 5, 5, 5,]])\n",
    "\n",
    "        #     paths_b2,= array([[5, 5, 5, 5, 5, 5, 5, 5, 5, 5, 5, 5, 5, 5, 5,],\n",
    "        #            [6, 6, 6, 6, 6, 6, 6, 6, 6, 6, 6, 6, 6, 6, 6,]])\n",
    "\n",
    "\n",
    "\n",
    "    elif scenario == 22:\n",
    "        # boulder selfish\n",
    "        #strong starts in bottom right and weak in bottom left. Boulder at 2,,4,\n",
    "        # strong pushes boulder up and then rests on left goal (also W's goal).\n",
    "\n",
    "\n",
    "        paths_s = array([[5, 4, 3, 2, 2, 2, 2, 2, 2, 2, 2, 2, 2, 2, 2, 2, ],\n",
    "            [   2, 2, 2, 2, 3, 4, 5, 6, 6, 6, 6, 6, 6, 6, 6, 6,]])\n",
    "\n",
    "        actions_s = array([[2, 2, 2, 5, 5, 5, 5, 1, 1, 1, 1, 1, 1, 1, 1, 1,]])\n",
    "\n",
    "        paths_w = array([[1, 1, 2, 2, 2, 2, 2, 2, 2, 2, 2, 2, 2, 2, 2, 2,],\n",
    "            [   1, 1, 1, 1, 1, 2, 3, 3, 4, 5, 5, 5, 5, 5, 5, 5,]])\n",
    "\n",
    "        actions_w = array([[3, 3, 5, 5, 5, 5, 5, 1, 1, 1, 1, 1, 1, 1, 1,]])\n",
    "\n",
    "\n",
    "        paths_b = array([[2, 2, 2, 2, 2, 2, 2, 2, 2, 2, 2, 2, 2, 2, 2, 2,],\n",
    "            [   4, 4, 4, 4, 4, 5, 6, 7, 7, 7, 7, 7, 7, 7, 7, 7,]])\n",
    "\n",
    "    elif scenario == 23:\n",
    "        # boulder selfish 2,\n",
    "        #strong starts in bottom right and weak in bottom left. Boulder at 2,,4,\n",
    "        # strong pushes boulder up and then rests on left goal. W goes off to his goal.\n",
    "\n",
    "        paths_s= array([[5, 4, 3, 2, 2, 2, 2, 2, 2, 2, 2, 2, 2, 2, 2, 2, ],\n",
    "            [   2, 2, 2, 2, 3, 4, 5, 6, 6, 6, 6, 6, 6, 6, 6, 6,]])\n",
    "\n",
    "        actions_s = array([[2, 2, 2, 5, 5, 5, 5, 1, 1, 1, 1, 1, 1, 1, 1, ]])\n",
    "\n",
    "        paths_w = array([[1, 1, 2, 2, 2, 2, 2, 2, 2, 2, 2, 3, 3, 4, 5, 5,],\n",
    "            [  1, 1, 1, 1, 1, 2, 3, 3, 4, 5, 5, 5, 6, 6, 6, 6,]])\n",
    "\n",
    "        actions_w = array([[3, 3, 5, 5, 5, 5, 5, 5, 5, 3, 3, 5, 3, 3, 3, ]])\n",
    "\n",
    "\n",
    "        paths_b = array([[2, 2, 2, 2, 2, 2, 2, 2, 2, 2, 2, 2, 2, 2, 2, 2,],\n",
    "            [   4, 4, 4, 4, 4, 5, 6, 7, 7, 7, 7, 7, 7, 7, 7, 7,]])\n",
    "\n",
    "\n",
    "\n",
    "    elif scenario == 24:\n",
    "        # boulder tricky help\n",
    "        # S is a helper and starts in top-right near W's goal. Boulder is in 6,,4,.\n",
    "        # S pushes boulder down and then pushes W up to goal.\n",
    "\n",
    "        paths_s =  array([[7, 6, 6, 6, 6, 6, 7, 7, 6, 6, 6, 6, 6, 6, 6, 6,],\n",
    "            [   6, 6, 5, 4, 3, 2, 2, 1, 1, 2, 3, 4, 5, 5, 5, 5,]])\n",
    "\n",
    "        actions_s = array([[2, 4, 4, 4, 4, 3, 4, 2, 5, 5, 5, 5, 1, 1, 1,]])\n",
    "\n",
    "        paths_w=  array([[5, 5, 5, 5, 5, 5, 6, 6, 6, 6, 6, 6, 6, 6, 6, 6,],\n",
    "            [   3, 3, 3, 2, 2, 2, 2, 3, 4, 5, 6, 6, 6, 6, 6, 6,]])\n",
    "\n",
    "        actions_w = array([[4, 4, 4, 2, 2, 2, 3, 5, 5, 5, 5, 1, 1, 1, 1,]])\n",
    "\n",
    "        paths_b =  array([[6, 6, 6, 6, 6, 6, 5, 5, 5, 5, 5, 5, 5, 5, 5, 5,],\n",
    "            [    4, 4, 4, 3, 2, 1, 1, 1, 1, 1, 1, 1, 1, 1, 1, 1,]])\n",
    "\n",
    "    elif scenario == 25:\n",
    "        # boulder sadistic imprisonment\n",
    "        # S is a helper and starts in top-right near W's goal. Boulder is in 6,,4,.\n",
    "        # S pushes boulder down and then locks W into corner\n",
    "\n",
    "\n",
    "        paths_s=  array([[7, 6, 6, 6, 6, 6, 6, 5, 5, 6, 6, 7, 7, 7, 7, 7,],\n",
    "            [   6, 6, 5, 4, 3, 2, 3, 3, 2, 2, 3, 3, 2, 2, 2, 2,]])\n",
    "\n",
    "        actions_s = array([[2, 4, 4, 4, 4, 5, 2, 4, 3, 5, 3, 4, 1, 1, 1,]])\n",
    "\n",
    "        paths_w=  array([[5, 5, 5, 5, 5, 5, 6, 6, 6, 7, 7, 7, 7, 7, 7, 7,],\n",
    "            [   3, 3, 3, 2, 2, 2, 2, 2, 2, 2, 2, 2, 1, 1, 1, 1,]])\n",
    "\n",
    "        actions_w = array([[4, 4, 4, 2, 2, 2, 3, 4, 4, 4, 2, 2, 5, 5, 5,]])\n",
    "\n",
    "        paths_b =  array([[6, 6, 6, 6, 6, 6, 6, 6, 6, 6, 6, 6, 6, 6, 6, 6,],\n",
    "            [    4, 4, 4, 3, 2, 1, 1, 1, 1, 1, 1, 1, 1, 1, 1, 1,]])\n",
    "\n",
    "\n",
    "\n",
    "    elif scenario == 100:\n",
    "        # Training 1,:\n",
    "        # Strong moves more easily than weak\n",
    "\n",
    "\n",
    "        paths_s = array([[ 1, 2, 3, 3, 4, 5, 5, 5, 5, 5, 5, 5, 5, 5, 5, 5, 5, ],\n",
    "            [        5, 5, 5, 6, 6, 6, 7, 7, 7, 7, 7, 7, 7, 7, 7, 7, 7, ]])\n",
    "\n",
    "        paths_w = array([[ 1, 1, 1, 1, 1, 1, 1, 1, 2, 2, 3, 3, 3, 4, 5, 5, 5, ],\n",
    "            [        1, 1, 1, 1, 1, 1, 1, 1, 1, 1, 1, 2, 2, 2, 2, 2, 3, ]])\n",
    "\n",
    "        actions_s = array([[ 3, 3, 5, 3, 3, 5, 1, 1, 1, 1, 1, 1, 1, 1, 1, 1, ]])\n",
    "\n",
    "        actions_w = array([[ 1, 1, 1, 1, 1, 1, 3, 3, 3, 3, 5, 3, 3, 3, 5, 5, ]])\n",
    "\n",
    "\n",
    "    elif scenario == 101:\n",
    "        # Training 3,:\n",
    "        # Strong can push weak, but not vice versa\n",
    "\n",
    "        paths_s = array([[ 2, 2, 2, 3, 4, 4, 4, 4, 4,],\n",
    "            [        4, 3, 2, 2, 2, 2, 2, 2, 2,]])\n",
    "\n",
    "        paths_w = array([[ 3, 3, 3, 4, 5, 5, 5, 5, 5,],\n",
    "            [        1, 1, 2, 2, 2, 2, 2, 2, 2,]])\n",
    "\n",
    "        actions_s = array([[ 4, 4, 3, 3, 1, 1, 1, 1,]])\n",
    "\n",
    "        actions_w = array([[ 5, 5, 1, 1, 2, 2, 2, 2,]])\n",
    "\n",
    "    elif scenario == 102:\n",
    "        # Training 4,:\n",
    "        # Strong can push boulders. Weak can't\n",
    "\n",
    "        paths_s =  array([[ 1, 1, 2, 3, 4, 5, 5, 6, 6, 6, 6, 6, 6, 6, 6, ],\n",
    "            [       1, 2, 2, 2, 2, 2, 1, 1, 2, 3, 2, 1, 1, 1, 1,]])\n",
    "\n",
    "        actions_s =  array([[ 5, 3, 3, 3, 3, 4, 3, 5, 5, 4, 4, 1, 1, 1,]])\n",
    "\n",
    "\n",
    "        paths_w =  array([[ 7, 7, 7, 7, 7, 7, 7, 7, 7, 7, 6, 6, 6, 6, 6, ],\n",
    "            [       5, 5, 5, 5, 5, 5, 5, 5, 5, 5, 5, 5, 5, 5, 5,]])\n",
    "\n",
    "        actions_w =  array([[ 1, 1, 1, 1, 1, 1, 1, 1, 2, 2, 4, 4, 4, 4,]])\n",
    "\n",
    "\n",
    "        paths_b =   array([[2, 2, 3, 4, 5, 6, 6, 6, 6, 6, 6, 6, 6, 6, 6,],\n",
    "            [       2, 2, 2, 2, 2, 2, 2, 2, 3, 4, 4, 4, 4, 4, 4,]])\n",
    "\n",
    "    elif scenario == 103:\n",
    "        # Training 4,:\n",
    "        # Small and weak doing stuff\n",
    "\n",
    "        paths_s = array([[ 3, 2, 2, 2, 2, 2, 2, 2, ],\n",
    "            [      1, 1, 2, 3, 4, 5, 6, 6, ]])\n",
    "\n",
    "        paths_w = array([[ 5, 5, 6, 6, 6, 6, 6, 6, ],\n",
    "            [      3, 3, 3, 4, 4, 5, 5, 6, ]])\n",
    "\n",
    "        actions_s = array([[ 2, 5, 5, 5, 5, 5, 1,]])\n",
    "\n",
    "        actions_w = array([[ 3, 3, 5, 5, 5, 5, 5,]])\n",
    "\n",
    "    elif scenario == 201:\n",
    "        # Selfish basic\n",
    "        paths_s = array([[1, 1, 2, 3, 4, 5, 6, 6, 6, 6, 6, 6, 6, 6, 6, 6,  ],\n",
    "            [     1, 2, 2, 2, 2, 2, 2, 3, 4, 5, 6, 6, 6, 6, 6, 6, ]])\n",
    "\n",
    "        paths_w = array([[7, 7, 7, 6, 6, 6, 7, 6, 5, 5, 4, 3, 3, 2, 2, 2,  ],\n",
    "            [     1, 1, 1, 1, 2, 2, 2, 2, 2, 2, 2, 2, 2, 2, 3, 4, ]])\n",
    "\n",
    "        actions_s = array([[5, 3, 3, 3, 3, 3, 5, 5, 5, 5, 1, 1, 1, 1, 1, ]])\n",
    "\n",
    "        actions_w = array([[5, 2, 2, 5, 2, 2, 2, 2, 2, 2, 2, 2, 2, 5, 5, ]])\n",
    "\n",
    "        best_k = array([[4, 7, 8,]])\n",
    "\n",
    "    elif scenario == 202:\n",
    "        # Helping basic\n",
    "\n",
    "        paths_s =   array([[6, 6, 6, 5, 4, 3, 3, 2, 2, 2, 2, 2, 2, 2, 2, 2,  ],\n",
    "            [       4, 3, 2, 2, 2, 2, 1, 1, 2, 3, 4, 5, 5, 5, 5, 5, ]])\n",
    "\n",
    "        paths_w =   array([[1, 1, 2, 2, 2, 2, 2, 2, 2, 2, 2, 2, 2, 2, 2, 2, ],\n",
    "            [       1, 1, 1, 1, 1, 2, 2, 2, 3, 4, 5, 6, 6, 6, 6, 6, ]])\n",
    "\n",
    "        actions_s =  array([[4, 4, 2, 2, 2, 4, 2, 5, 5, 5, 5, 1, 1, 1, 1, ]])\n",
    "\n",
    "        actions_w =  array([[3, 3, 5, 5, 5, 5, 5, 5, 5, 5, 5, 1, 1, 1, 1, ]])\n",
    "\n",
    "        best_k = array([[3, 6, 7,]])\n",
    "\n",
    "    elif scenario == 203:\n",
    "        # Hinder basic\n",
    "\n",
    "        paths_s =   array([[7, 7, 6, 5, 4, 3, 2, 2, 2, 2, 2, 2, 2, 2, 2, 2,  ],\n",
    "            [       7, 6, 6, 6, 6, 6, 6, 5, 4, 4, 4, 4, 4, 4, 4, 4, ]])\n",
    "\n",
    "        paths_w =   array([[1, 1, 2, 2, 2, 2, 2, 2, 2, 2, 2, 2, 2, 2, 2, 2, ],\n",
    "            [       1, 1, 1, 1, 1, 2, 2, 3, 3, 3, 3, 3, 3, 3, 3, 3, ]])\n",
    "\n",
    "        actions_s =  array([[4, 2, 2, 2, 2, 2, 4, 4, 1, 1, 1, 1, 1, 1, 1, ]])\n",
    "\n",
    "        actions_w =  array([[3, 3, 5, 5, 5, 5, 5, 5, 5, 5, 5, 5, 5, 5, 5,  ]])\n",
    "\n",
    "        best_k = array([[4, 7, 8,]])\n",
    "\n",
    "    return paths_s, paths_w, paths_b, actions_s, actions_w"
   ]
  },
  {
   "cell_type": "code",
   "execution_count": 95,
   "metadata": {},
   "outputs": [],
   "source": [
    "f = open(\"/Users/tomer/Downloads/temphe.txt\")\n",
    "x = f.readlines()\n",
    "f.close()\n",
    "f2 = open(\"/Users/tomer/Downloads/temphe2.txt\",'w')\n",
    "for i, l in enumerate(x):\n",
    "    l = l.replace('[','array([[')\n",
    "    l = l.replace(']',']])')\n",
    "    if 'paths_s' in l or 'paths_w' in l or 'paths_b' in l:\n",
    "        l = l.replace('\\n','],\\n')\n",
    "    if i>0 and 'paths_s' in x[i - 1] or 'paths_w' in x[i - 1] or 'paths_b' in x[i - 1]:\n",
    "        l = l.replace('            ', '            [')\n",
    "    f2.write(l)\n",
    "f2.close()"
   ]
  },
  {
   "cell_type": "code",
   "execution_count": 121,
   "metadata": {},
   "outputs": [
    {
     "data": {
      "text/plain": [
       "<matplotlib.image.AxesImage at 0x1130198d0>"
      ]
     },
     "execution_count": 121,
     "metadata": {},
     "output_type": "execute_result"
    },
    {
     "data": {
      "image/png": "[encoded data removed]",
      "text/plain": [
       "<matplotlib.figure.Figure at 0x11301cc90>"
      ]
     },
     "metadata": {},
     "output_type": "display_data"
    }
   ],
   "source": [
    "## set up the maze\n",
    "\n",
    "figsize(8,8)\n",
    "\n",
    "strongImage = Image.open(\"images/strong1.bmp\")\n",
    "weakImage = Image.open(\"images/weak7.bmp\")\n",
    "treeImage = Image.open(\"images/tree.bmp\")\n",
    "flowerImage = Image.open(\"images/flower.bmp\")\n",
    "boulderImage = Image.open(\"images/obst.bmp\")\n",
    "\n",
    "squareSize = 1\n",
    "\n",
    "#####\n",
    "def drawBackground():\n",
    "    fig1 = plt.figure()\n",
    "    ax1 = fig1.add_subplot(111, aspect='equal')\n",
    "    def apatch(ax,x,y):\n",
    "        ax1.add_patch(patches.Rectangle((x, y), squareSize,squareSize,facecolor='k'))\n",
    "    bounderBoxes = [(3,0), (0,3), (3,3), (3,6), (6,3), (2,3), (3,4), (3,2), (4,3)]\n",
    "    for xy in bounderBoxes:\n",
    "        apatch(ax1, xy[0], xy[1])\n",
    "    ax1.imshow(flowerImage, extent = [1,2,5,6])\n",
    "    ax1.imshow(treeImage,   extent = [5,6,5,6])\n",
    "\n",
    "    ax1.set_xlim(0,7)\n",
    "    ax1.set_ylim(0,7)\n",
    "    ax1.set_xticks([])\n",
    "    ax1.set_yticks([])\n",
    "    ax1.set_xticklabels([])\n",
    "    ax1.set_yticklabels([])\n",
    "    return ax1\n",
    "ax1 = drawBackground()\n",
    "ax1.imshow(weakImage, extent=[paths_w[0][step]-1, paths_w[0][step], \n",
    "                              paths_w[1][step]-1, paths_w[1][step]])"
   ]
  },
  {
   "cell_type": "code",
   "execution_count": 189,
   "metadata": {},
   "outputs": [
    {
     "name": "stdout",
     "output_type": "stream",
     "text": [
      "[[3 5 5 5 5 5 1 1 1 1 1 1 1 1 1]]\n",
      "[[3 3 3 3 3 3 3 3 3 3 3 3 3 3 3 3]\n",
      " [2 2 2 2 2 2 2 2 2 2 2 2 2 2 2 2]]\n"
     ]
    },
    {
     "data": {
      "application/vnd.jupyter.widget-view+json": {
       "model_id": "41337872e82e4001912fffa6d3f27196"
      }
     },
     "metadata": {},
     "output_type": "display_data"
    }
   ],
   "source": [
    "figsize(8,8)\n",
    "scenario = 13\n",
    "paths_s, paths_w, paths_b, actions_s, actions_w = returnPathsActions(scenario)\n",
    "\n",
    "\n",
    "def browse_images(scenario):\n",
    "    n = 2*len(paths_w[0])-1\n",
    "    def view_image(step):\n",
    "        ax1 = drawBackground()\n",
    "        modStep = step/2\n",
    "        if len(paths_b)>1:\n",
    "            ax1.imshow(boulderImage, extent=[paths_b[0][modStep]-1, paths_b[0][modStep], \n",
    "                                             paths_b[1][modStep]-1, paths_b[1][modStep]])\n",
    "            \n",
    "        \n",
    "        if step%2 == 0:\n",
    "            \n",
    "            ax1.imshow(weakImage, extent=[paths_w[0][modStep]-1, paths_w[0][modStep], \n",
    "                                          paths_w[1][modStep]-1, paths_w[1][modStep]])\n",
    "            ax1.imshow(strongImage, extent=[paths_s[0][modStep]-1, paths_s[0][modStep], \n",
    "                                          paths_s[1][modStep]-1, paths_s[1][modStep]])\n",
    "        else:\n",
    "            \n",
    "            ms1,ms2,ms3,ms4 = returnActionModification(actions_s[0][modStep])\n",
    "            mw1,mw2,mw3,mw4 = returnActionModification(actions_w[0][modStep])\n",
    "\n",
    "            ax1.imshow(weakImage, extent=[paths_w[0][modStep]-1+mw1, paths_w[0][modStep]+mw2, \n",
    "                                          paths_w[1][modStep]-1+mw3, paths_w[1][modStep]+mw4])\n",
    "            ax1.imshow(strongImage, extent=[paths_s[0][modStep]-1+ms1, paths_s[0][modStep]+ms2, \n",
    "                                          paths_s[1][modStep]-1+ms3, paths_s[1][modStep]+ms4])\n",
    "        \n",
    "        plt.show()\n",
    "    interact(view_image, step = (0, n-1))\n",
    "\n",
    "browse_images(scenario)"
   ]
  },
  {
   "cell_type": "code",
   "execution_count": 215,
   "metadata": {},
   "outputs": [
    {
     "name": "stdout",
     "output_type": "stream",
     "text": [
      "scenario 17\n",
      "making movie...\n",
      "deleting leftover images\n",
      "scenario 18\n",
      "making movie...\n",
      "deleting leftover images\n",
      "scenario 19\n",
      "making movie...\n",
      "deleting leftover images\n",
      "scenario 20\n",
      "making movie...\n",
      "deleting leftover images\n",
      "scenario 21\n",
      "making movie...\n",
      "deleting leftover images\n",
      "scenario 22\n",
      "making movie...\n",
      "deleting leftover images\n",
      "scenario 23\n",
      "making movie...\n",
      "deleting leftover images\n",
      "scenario 24\n",
      "making movie...\n",
      "deleting leftover images\n",
      "scenario 25\n",
      "making movie...\n",
      "deleting leftover images\n"
     ]
    }
   ],
   "source": [
    "figsize(8,8)\n",
    "for scenario in range(17,26):\n",
    "    print \"scenario \" + str(scenario)\n",
    "    paths_s, paths_w, paths_b, actions_s, actions_w = returnPathsActions(scenario)\n",
    "\n",
    "\n",
    "    for step in range(2*len(paths_w[0])-1):\n",
    "        ax1 = drawBackground()\n",
    "        modStep = step/2\n",
    "        if len(paths_b)>1:\n",
    "            ax1.imshow(boulderImage, extent=[paths_b[0][modStep]-1, paths_b[0][modStep], \n",
    "                                             paths_b[1][modStep]-1, paths_b[1][modStep]])\n",
    "        if step%2 == 0:\n",
    "\n",
    "            ax1.imshow(weakImage, extent=[paths_w[0][modStep]-1, paths_w[0][modStep], \n",
    "                                          paths_w[1][modStep]-1, paths_w[1][modStep]])\n",
    "            ax1.imshow(strongImage, extent=[paths_s[0][modStep]-1, paths_s[0][modStep], \n",
    "                                          paths_s[1][modStep]-1, paths_s[1][modStep]])\n",
    "        else:\n",
    "\n",
    "            ms1,ms2,ms3,ms4 = returnActionModification(actions_s[0][modStep])\n",
    "            mw1,mw2,mw3,mw4 = returnActionModification(actions_w[0][modStep])\n",
    "\n",
    "            ax1.imshow(weakImage, extent=[paths_w[0][modStep]-1+mw1, paths_w[0][modStep]+mw2, \n",
    "                                          paths_w[1][modStep]-1+mw3, paths_w[1][modStep]+mw4])\n",
    "            ax1.imshow(strongImage, extent=[paths_s[0][modStep]-1+ms1, paths_s[0][modStep]+ms2, \n",
    "                                          paths_s[1][modStep]-1+ms3, paths_s[1][modStep]+ms4])\n",
    "        if step < 10:\n",
    "            padding = \"0\"\n",
    "        else:\n",
    "            padding = \"\"\n",
    "        savefig(\"tempImages/image0\" + padding + str(step))\n",
    "\n",
    "    ## make movie\n",
    "    print \"making movie...\"\n",
    "    os.system(\"ffmpeg -r 2 -i tempImages/image%03d.png -vcodec libx264 movies/scenario\" + \\\n",
    "              str(scenario) + \".mp4\")\n",
    "    ## delete images\n",
    "    print \"deleting leftover images\"\n",
    "    for step in range(2*len(paths_w[0])-1):\n",
    "        if step < 10:\n",
    "            padding = \"0\"\n",
    "        else:\n",
    "            padding = \"\"\n",
    "        os.system(\"rm tempImages/image0\" + padding + str(step))\n",
    "\n",
    "    plt.close(\"all\")\n"
   ]
  }
 ],
 "metadata": {
  "kernelspec": {
   "display_name": "Python 2",
   "language": "python",
   "name": "python2"
  },
  "language_info": {
   "codemirror_mode": {
    "name": "ipython",
    "version": 2
   },
   "file_extension": ".py",
   "mimetype": "text/x-python",
   "name": "python",
   "nbconvert_exporter": "python",
   "pygments_lexer": "ipython2",
   "version": "2.7.12"
  },
  "widgets": {
   "application/vnd.jupyter.widget-state+json": {
    "state": {
     "00312eec8c724cc68f4e455ee63e67f4": {
      "model_module": "jupyter-js-widgets",
      "model_module_version": "~2.1.4",
      "model_name": "OutputModel",
      "state": {
       "_dom_classes": [],
       "_model_module": "jupyter-js-widgets",
       "_model_module_version": "~2.1.4",
       "_view_module": "jupyter-js-widgets",
       "_view_module_version": "~2.1.4",
       "layout": "IPY_MODEL_c82aee3e85164f77a7792ca0f7a45bad",
       "msg_throttle": 1
      }
     },
     "01a0ab96fa6b4b089827cfc6b6300e03": {
      "model_module": "jupyter-js-widgets",
      "model_module_version": "~2.1.4",
      "model_name": "VBoxModel",
      "state": {
       "_dom_classes": [
        "widget-interact"
       ],
       "_model_module_version": "~2.1.4",
       "_view_module_version": "~2.1.4",
       "children": [
        "IPY_MODEL_aca0e5a280a5438c9aa9fdcf2903224c",
        "IPY_MODEL_42dcd538157c4be2a0a218cbd7387e8e"
       ],
       "layout": "IPY_MODEL_673402aa9ab8406f819276ddbdbcf1b2"
      }
     },
     "03e0d0c3927e4866827fe20e583d800e": {
      "model_module": "jupyter-js-widgets",
      "model_module_version": "~2.1.4",
      "model_name": "LayoutModel",
      "state": {
       "_model_module_version": "~2.1.4",
       "_view_module_version": "~2.1.4"
      }
     },
     "06bbade9e8b2430b95ab64d6b58a25f3": {
      "model_module": "jupyter-js-widgets",
      "model_module_version": "~2.1.4",
      "model_name": "IntSliderModel",
      "state": {
       "_model_module_version": "~2.1.4",
       "_view_module_version": "~2.1.4",
       "description": "step",
       "layout": "IPY_MODEL_a00badba2caa4605bccdf90046dac692",
       "max": 15,
       "min": 1,
       "style": "IPY_MODEL_7f7121a84a8b44f3b56337fad8019734",
       "value": 1
      }
     },
     "085343f4af684ec9845b4e82633794a3": {
      "model_module": "jupyter-js-widgets",
      "model_module_version": "~2.1.4",
      "model_name": "VBoxModel",
      "state": {
       "_dom_classes": [
        "widget-interact"
       ],
       "_model_module_version": "~2.1.4",
       "_view_module_version": "~2.1.4",
       "children": [
        "IPY_MODEL_6c5c3f77d25b45c9aa413c4e6dc46c66",
        "IPY_MODEL_e7df2f02817d4b9ea2bb3d3181bed7f3"
       ],
       "layout": "IPY_MODEL_5ef57305f892498a82b342b6ac52cd62"
      }
     },
     "09cd1e52a37e4faea27d893e5605f2b7": {
      "model_module": "jupyter-js-widgets",
      "model_module_version": "~2.1.4",
      "model_name": "LayoutModel",
      "state": {
       "_model_module_version": "~2.1.4",
       "_view_module_version": "~2.1.4"
      }
     },
     "0ba42433bd1246a59b6aeb0826686312": {
      "model_module": "jupyter-js-widgets",
      "model_module_version": "~2.1.4",
      "model_name": "LayoutModel",
      "state": {
       "_model_module_version": "~2.1.4",
       "_view_module_version": "~2.1.4"
      }
     },
     "0ce3422a71e945918b7bb6148a248512": {
      "model_module": "jupyter-js-widgets",
      "model_module_version": "~2.1.4",
      "model_name": "LayoutModel",
      "state": {
       "_model_module_version": "~2.1.4",
       "_view_module_version": "~2.1.4"
      }
     },
     "0cf68d6b174b415f9a2334bc67e30150": {
      "model_module": "jupyter-js-widgets",
      "model_module_version": "~2.1.4",
      "model_name": "LayoutModel",
      "state": {
       "_model_module_version": "~2.1.4",
       "_view_module_version": "~2.1.4"
      }
     },
     "10533d50a2a94ed2a07d497a58af652f": {
      "model_module": "jupyter-js-widgets",
      "model_module_version": "~2.1.4",
      "model_name": "LayoutModel",
      "state": {
       "_model_module_version": "~2.1.4",
       "_view_module_version": "~2.1.4"
      }
     },
     "1275d71fb2da4df0a6c771b5a813f9cf": {
      "model_module": "jupyter-js-widgets",
      "model_module_version": "~2.1.4",
      "model_name": "OutputModel",
      "state": {
       "_dom_classes": [],
       "_model_module": "jupyter-js-widgets",
       "_model_module_version": "~2.1.4",
       "_view_module": "jupyter-js-widgets",
       "_view_module_version": "~2.1.4",
       "layout": "IPY_MODEL_2207ff18d8e04e27bad6e2591ee65490",
       "msg_throttle": 1
      }
     },
     "129640b84bf145459b7de8f5138d44ce": {
      "model_module": "jupyter-js-widgets",
      "model_module_version": "~2.1.4",
      "model_name": "IntSliderModel",
      "state": {
       "_model_module_version": "~2.1.4",
       "_view_module_version": "~2.1.4",
       "description": "i",
       "layout": "IPY_MODEL_fa3d0355136a45928aa8d4e470a6c21b",
       "max": 9,
       "style": "IPY_MODEL_488316d6815f4a5b970c068526b37b69",
       "value": 7
      }
     },
     "182cff9598cd448187f669d4ea8e9318": {
      "model_module": "jupyter-js-widgets",
      "model_module_version": "~2.1.4",
      "model_name": "OutputModel",
      "state": {
       "_dom_classes": [],
       "_model_module": "jupyter-js-widgets",
       "_model_module_version": "~2.1.4",
       "_view_module": "jupyter-js-widgets",
       "_view_module_version": "~2.1.4",
       "layout": "IPY_MODEL_0cf68d6b174b415f9a2334bc67e30150",
       "msg_throttle": 1
      }
     },
     "19024a3b64464e53980428b2cd87a625": {
      "model_module": "jupyter-js-widgets",
      "model_module_version": "~2.1.4",
      "model_name": "OutputModel",
      "state": {
       "_dom_classes": [],
       "_model_module": "jupyter-js-widgets",
       "_model_module_version": "~2.1.4",
       "_view_module": "jupyter-js-widgets",
       "_view_module_version": "~2.1.4",
       "layout": "IPY_MODEL_c61a8bc356b44294ac6760e32aa7d859",
       "msg_throttle": 1
      }
     },
     "1b9f1236877840d5b83822ae757c8bd9": {
      "model_module": "jupyter-js-widgets",
      "model_module_version": "~2.1.4",
      "model_name": "LayoutModel",
      "state": {
       "_model_module_version": "~2.1.4",
       "_view_module_version": "~2.1.4"
      }
     },
     "1da47e5ce7444b88ac57d3b5f77717a9": {
      "model_module": "jupyter-js-widgets",
      "model_module_version": "~2.1.4",
      "model_name": "LayoutModel",
      "state": {
       "_model_module_version": "~2.1.4",
       "_view_module_version": "~2.1.4"
      }
     },
     "1e582d46d58840828e9a5e4bb8b1726b": {
      "model_module": "jupyter-js-widgets",
      "model_module_version": "~2.1.4",
      "model_name": "VBoxModel",
      "state": {
       "_dom_classes": [
        "widget-interact"
       ],
       "_model_module_version": "~2.1.4",
       "_view_module_version": "~2.1.4",
       "children": [
        "IPY_MODEL_976e35bcc9fd457689d1f2a47d03ebb9",
        "IPY_MODEL_8b8c19123331478c9a6200ca83d6badb"
       ],
       "layout": "IPY_MODEL_47055f97a68e470880465fe38a4bc482"
      }
     },
     "1eaa42b2cd07403d9fbfdc782df8924b": {
      "model_module": "jupyter-js-widgets",
      "model_module_version": "~2.1.4",
      "model_name": "LayoutModel",
      "state": {
       "_model_module_version": "~2.1.4",
       "_view_module_version": "~2.1.4"
      }
     },
     "213cc5b44f4a471396a072f45da93dd2": {
      "model_module": "jupyter-js-widgets",
      "model_module_version": "~2.1.4",
      "model_name": "LayoutModel",
      "state": {
       "_model_module_version": "~2.1.4",
       "_view_module_version": "~2.1.4"
      }
     },
     "2207ff18d8e04e27bad6e2591ee65490": {
      "model_module": "jupyter-js-widgets",
      "model_module_version": "~2.1.4",
      "model_name": "LayoutModel",
      "state": {
       "_model_module_version": "~2.1.4",
       "_view_module_version": "~2.1.4"
      }
     },
     "22f50895a44744b283f9e214cd0ab809": {
      "model_module": "jupyter-js-widgets",
      "model_module_version": "~2.1.4",
      "model_name": "LayoutModel",
      "state": {
       "_model_module_version": "~2.1.4",
       "_view_module_version": "~2.1.4"
      }
     },
     "230054e2cfa04a9f86b6a07c23fe8a88": {
      "model_module": "jupyter-js-widgets",
      "model_module_version": "~2.1.4",
      "model_name": "VBoxModel",
      "state": {
       "_dom_classes": [
        "widget-interact"
       ],
       "_model_module_version": "~2.1.4",
       "_view_module_version": "~2.1.4",
       "children": [
        "IPY_MODEL_2cb11a53d9c1466c9540d1d67b257c94",
        "IPY_MODEL_b4b07df4587942a59e4235765c6cb790"
       ],
       "layout": "IPY_MODEL_f27f2d5467d44b609b5d6687df249a4c"
      }
     },
     "24f2fa1ff6f445fcb4f876877e36b698": {
      "model_module": "jupyter-js-widgets",
      "model_module_version": "~2.1.4",
      "model_name": "LayoutModel",
      "state": {
       "_model_module_version": "~2.1.4",
       "_view_module_version": "~2.1.4"
      }
     },
     "25e2c2a409e64aaf8b11ca712f38bdc3": {
      "model_module": "jupyter-js-widgets",
      "model_module_version": "~2.1.4",
      "model_name": "VBoxModel",
      "state": {
       "_dom_classes": [
        "widget-interact"
       ],
       "_model_module_version": "~2.1.4",
       "_view_module_version": "~2.1.4",
       "children": [
        "IPY_MODEL_75775207252c4bbe8536e3e37dd666ac",
        "IPY_MODEL_4353b0a9fffa4546a14ecd91bcc8cbf9"
       ],
       "layout": "IPY_MODEL_86e64e9a14f544efb8d7368bae924eb4"
      }
     },
     "27894e8570b4443388cc40e46ad480d8": {
      "model_module": "jupyter-js-widgets",
      "model_module_version": "~2.1.4",
      "model_name": "LayoutModel",
      "state": {
       "_model_module_version": "~2.1.4",
       "_view_module_version": "~2.1.4"
      }
     },
     "28e4c85e41864eeab153239b16739262": {
      "model_module": "jupyter-js-widgets",
      "model_module_version": "~2.1.4",
      "model_name": "VBoxModel",
      "state": {
       "_dom_classes": [
        "widget-interact"
       ],
       "_model_module_version": "~2.1.4",
       "_view_module_version": "~2.1.4",
       "children": [
        "IPY_MODEL_644a2a32d26a43db8933f150477eba48",
        "IPY_MODEL_45ad6c50fafc48b38c3d17dd77ab4952"
       ],
       "layout": "IPY_MODEL_24f2fa1ff6f445fcb4f876877e36b698"
      }
     },
     "298d9d59f3644238a373648755ae0186": {
      "model_module": "jupyter-js-widgets",
      "model_module_version": "~2.1.4",
      "model_name": "OutputModel",
      "state": {
       "_dom_classes": [],
       "_model_module": "jupyter-js-widgets",
       "_model_module_version": "~2.1.4",
       "_view_module": "jupyter-js-widgets",
       "_view_module_version": "~2.1.4",
       "layout": "IPY_MODEL_98bc2a7162eb4856b2f31005e241ce01",
       "msg_throttle": 1
      }
     },
     "29ff1f6b509d442380755d85c50ca1e6": {
      "model_module": "jupyter-js-widgets",
      "model_module_version": "~2.1.4",
      "model_name": "SliderStyleModel",
      "state": {
       "_model_module_version": "~2.1.4",
       "_view_module_version": "~2.1.4"
      }
     },
     "2aa449d5c0ff40d183f34a181bea1189": {
      "model_module": "jupyter-js-widgets",
      "model_module_version": "~2.1.4",
      "model_name": "IntSliderModel",
      "state": {
       "_model_module_version": "~2.1.4",
       "_view_module_version": "~2.1.4",
       "description": "step",
       "layout": "IPY_MODEL_e5e65bb084b24ce4b4e93521602090e5",
       "max": 15,
       "min": 1,
       "style": "IPY_MODEL_9d34aced3e6043c5b3b2b6682d77f5f2",
       "value": 15
      }
     },
     "2b032943faaf4af788be5927dd5ab1c0": {
      "model_module": "jupyter-js-widgets",
      "model_module_version": "~2.1.4",
      "model_name": "LayoutModel",
      "state": {
       "_model_module_version": "~2.1.4",
       "_view_module_version": "~2.1.4"
      }
     },
     "2b2dccfd705a4d12b171be41d4c156f1": {
      "model_module": "jupyter-js-widgets",
      "model_module_version": "~2.1.4",
      "model_name": "LayoutModel",
      "state": {
       "_model_module_version": "~2.1.4",
       "_view_module_version": "~2.1.4"
      }
     },
     "2cb11a53d9c1466c9540d1d67b257c94": {
      "model_module": "jupyter-js-widgets",
      "model_module_version": "~2.1.4",
      "model_name": "IntSliderModel",
      "state": {
       "_model_module_version": "~2.1.4",
       "_view_module_version": "~2.1.4",
       "description": "step",
       "layout": "IPY_MODEL_45953891e96341fb9850c558d5225d6e",
       "max": 15,
       "min": 1,
       "style": "IPY_MODEL_575cacd4c4bb42edb80b2ae3bc425e1d",
       "value": 1
      }
     },
     "2e1232705bb94e10967c7170acb23d00": {
      "model_module": "jupyter-js-widgets",
      "model_module_version": "~2.1.4",
      "model_name": "LayoutModel",
      "state": {
       "_model_module_version": "~2.1.4",
       "_view_module_version": "~2.1.4"
      }
     },
     "2ed6a633c69f479b84d31042cba910b5": {
      "model_module": "jupyter-js-widgets",
      "model_module_version": "~2.1.4",
      "model_name": "IntSliderModel",
      "state": {
       "_model_module_version": "~2.1.4",
       "_view_module_version": "~2.1.4",
       "description": "step",
       "layout": "IPY_MODEL_10533d50a2a94ed2a07d497a58af652f",
       "max": 31,
       "style": "IPY_MODEL_cce1367751c647f4802b6a5993b714b1",
       "value": 15
      }
     },
     "2edaf78e2ab04675948217d42cc040d5": {
      "model_module": "jupyter-js-widgets",
      "model_module_version": "~2.1.4",
      "model_name": "LayoutModel",
      "state": {
       "_model_module_version": "~2.1.4",
       "_view_module_version": "~2.1.4"
      }
     },
     "2f1d6325f8794c2ea78339366e036bbe": {
      "model_module": "jupyter-js-widgets",
      "model_module_version": "~2.1.4",
      "model_name": "OutputModel",
      "state": {
       "_dom_classes": [],
       "_model_module": "jupyter-js-widgets",
       "_model_module_version": "~2.1.4",
       "_view_module": "jupyter-js-widgets",
       "_view_module_version": "~2.1.4",
       "layout": "IPY_MODEL_0ba42433bd1246a59b6aeb0826686312",
       "msg_throttle": 1
      }
     },
     "2fceec3e7f624351b399dcce20eba6e6": {
      "model_module": "jupyter-js-widgets",
      "model_module_version": "~2.1.4",
      "model_name": "IntSliderModel",
      "state": {
       "_model_module_version": "~2.1.4",
       "_view_module_version": "~2.1.4",
       "description": "step",
       "layout": "IPY_MODEL_8658a714b713491e86c3c0ac6c51743e",
       "max": 31,
       "min": 1,
       "style": "IPY_MODEL_c13ecceaafd545deb96f436a66d8f16f",
       "value": 2
      }
     },
     "30693cf8fde24d658aa4c97c3dfd94a3": {
      "model_module": "jupyter-js-widgets",
      "model_module_version": "~2.1.4",
      "model_name": "VBoxModel",
      "state": {
       "_dom_classes": [
        "widget-interact"
       ],
       "_model_module_version": "~2.1.4",
       "_view_module_version": "~2.1.4",
       "children": [
        "IPY_MODEL_96d48aaf428f4b4c96747d70482323dc",
        "IPY_MODEL_a4cdd62c56574da38867a483470659cf"
       ],
       "layout": "IPY_MODEL_614db61e045c4ab2bf03df18c1485958"
      }
     },
     "31bd0face1c34cb3a83b96d4eb81aed7": {
      "model_module": "jupyter-js-widgets",
      "model_module_version": "~2.1.4",
      "model_name": "LayoutModel",
      "state": {
       "_model_module_version": "~2.1.4",
       "_view_module_version": "~2.1.4"
      }
     },
     "324ff835c6894bb7a9a71041a8ae9a06": {
      "model_module": "jupyter-js-widgets",
      "model_module_version": "~2.1.4",
      "model_name": "IntSliderModel",
      "state": {
       "_model_module_version": "~2.1.4",
       "_view_module_version": "~2.1.4",
       "description": "step",
       "layout": "IPY_MODEL_34a0b26153a04a42a8a7eebdd21c3763",
       "max": 15,
       "min": 1,
       "style": "IPY_MODEL_bbf5e5c154bf416eb8260af72f32e36a",
       "value": 8
      }
     },
     "3494a706dbe94a9880f44edc317dd49b": {
      "model_module": "jupyter-js-widgets",
      "model_module_version": "~2.1.4",
      "model_name": "LayoutModel",
      "state": {
       "_model_module_version": "~2.1.4",
       "_view_module_version": "~2.1.4"
      }
     },
     "34a0b26153a04a42a8a7eebdd21c3763": {
      "model_module": "jupyter-js-widgets",
      "model_module_version": "~2.1.4",
      "model_name": "LayoutModel",
      "state": {
       "_model_module_version": "~2.1.4",
       "_view_module_version": "~2.1.4"
      }
     },
     "36bb082c8df64516b168022d8a79ff7f": {
      "model_module": "jupyter-js-widgets",
      "model_module_version": "~2.1.4",
      "model_name": "LayoutModel",
      "state": {
       "_model_module_version": "~2.1.4",
       "_view_module_version": "~2.1.4"
      }
     },
     "379c69acca9b47fc80eddd3058671a94": {
      "model_module": "jupyter-js-widgets",
      "model_module_version": "~2.1.4",
      "model_name": "LayoutModel",
      "state": {
       "_model_module_version": "~2.1.4",
       "_view_module_version": "~2.1.4"
      }
     },
     "3988f2f12ad546d4944644ccf2f93f5a": {
      "model_module": "jupyter-js-widgets",
      "model_module_version": "~2.1.4",
      "model_name": "LayoutModel",
      "state": {
       "_model_module_version": "~2.1.4",
       "_view_module_version": "~2.1.4"
      }
     },
     "3a9dd71f87ed48838592f936cc2ba131": {
      "model_module": "jupyter-js-widgets",
      "model_module_version": "~2.1.4",
      "model_name": "LayoutModel",
      "state": {
       "_model_module_version": "~2.1.4",
       "_view_module_version": "~2.1.4"
      }
     },
     "3a9ded36bde54e868f6af0a117093b60": {
      "model_module": "jupyter-js-widgets",
      "model_module_version": "~2.1.4",
      "model_name": "LayoutModel",
      "state": {
       "_model_module_version": "~2.1.4",
       "_view_module_version": "~2.1.4"
      }
     },
     "3b031710ae13404fa8f02ad12e52e8a4": {
      "model_module": "jupyter-js-widgets",
      "model_module_version": "~2.1.4",
      "model_name": "SliderStyleModel",
      "state": {
       "_model_module_version": "~2.1.4",
       "_view_module_version": "~2.1.4"
      }
     },
     "3bf34ad074a14db2ba57a66ef345d224": {
      "model_module": "jupyter-js-widgets",
      "model_module_version": "~2.1.4",
      "model_name": "IntSliderModel",
      "state": {
       "_model_module_version": "~2.1.4",
       "_view_module_version": "~2.1.4",
       "description": "step",
       "layout": "IPY_MODEL_b87e974e214d41209e11149ee3446490",
       "max": 31,
       "style": "IPY_MODEL_794a3cec4f1f4c78bd986e749af0ef0e",
       "value": 4
      }
     },
     "3cb1c7b95c4c4a0588dfa2e73117cf4f": {
      "model_module": "jupyter-js-widgets",
      "model_module_version": "~2.1.4",
      "model_name": "LayoutModel",
      "state": {
       "_model_module_version": "~2.1.4",
       "_view_module_version": "~2.1.4"
      }
     },
     "3d5da6fb4efd446e841f6add2616301f": {
      "model_module": "jupyter-js-widgets",
      "model_module_version": "~2.1.4",
      "model_name": "SliderStyleModel",
      "state": {
       "_model_module_version": "~2.1.4",
       "_view_module_version": "~2.1.4"
      }
     },
     "3e89419dd8244b229b741cd4c0d3b8e8": {
      "model_module": "jupyter-js-widgets",
      "model_module_version": "~2.1.4",
      "model_name": "IntSliderModel",
      "state": {
       "_model_module_version": "~2.1.4",
       "_view_module_version": "~2.1.4",
       "description": "step",
       "layout": "IPY_MODEL_3cb1c7b95c4c4a0588dfa2e73117cf4f",
       "max": 15,
       "min": 1,
       "style": "IPY_MODEL_723fe94eb90e4edc85d64f9f48ff5c01",
       "value": 15
      }
     },
     "3edabbf5e56b41a18c441383c3ac8680": {
      "model_module": "jupyter-js-widgets",
      "model_module_version": "~2.1.4",
      "model_name": "VBoxModel",
      "state": {
       "_dom_classes": [
        "widget-interact"
       ],
       "_model_module_version": "~2.1.4",
       "_view_module_version": "~2.1.4",
       "children": [
        "IPY_MODEL_129640b84bf145459b7de8f5138d44ce",
        "IPY_MODEL_2f1d6325f8794c2ea78339366e036bbe"
       ],
       "layout": "IPY_MODEL_6a025c24395e4cbe9886eb700f214ef8"
      }
     },
     "415de75e9a3b4058bcc016f7c8c27779": {
      "model_module": "jupyter-js-widgets",
      "model_module_version": "~2.1.4",
      "model_name": "VBoxModel",
      "state": {
       "_dom_classes": [
        "widget-interact"
       ],
       "_model_module_version": "~2.1.4",
       "_view_module_version": "~2.1.4",
       "children": [
        "IPY_MODEL_ead78f247bcd40408b589bbc5794bf5a",
        "IPY_MODEL_466a232c6a6e49bd88496485c728f86c"
       ],
       "layout": "IPY_MODEL_c4932ca061cc46f2bdc291a78d3f49bc"
      }
     },
     "41f6fee9a3da47148d74ec4bcf94ab15": {
      "model_module": "jupyter-js-widgets",
      "model_module_version": "~2.1.4",
      "model_name": "IntSliderModel",
      "state": {
       "_model_module_version": "~2.1.4",
       "_view_module_version": "~2.1.4",
       "description": "i",
       "layout": "IPY_MODEL_863e789a64f147c6b76a165e9cb74a0b",
       "max": 9,
       "style": "IPY_MODEL_d6c0fec633a94eca8c40b06e66f7c456",
       "value": 4
      }
     },
     "423b6a0b55e14fdab9b397b987486bd8": {
      "model_module": "jupyter-js-widgets",
      "model_module_version": "~2.1.4",
      "model_name": "LayoutModel",
      "state": {
       "_model_module_version": "~2.1.4",
       "_view_module_version": "~2.1.4"
      }
     },
     "42dcd538157c4be2a0a218cbd7387e8e": {
      "model_module": "jupyter-js-widgets",
      "model_module_version": "~2.1.4",
      "model_name": "OutputModel",
      "state": {
       "_dom_classes": [],
       "_model_module": "jupyter-js-widgets",
       "_model_module_version": "~2.1.4",
       "_view_module": "jupyter-js-widgets",
       "_view_module_version": "~2.1.4",
       "layout": "IPY_MODEL_36bb082c8df64516b168022d8a79ff7f",
       "msg_throttle": 1
      }
     },
     "4353b0a9fffa4546a14ecd91bcc8cbf9": {
      "model_module": "jupyter-js-widgets",
      "model_module_version": "~2.1.4",
      "model_name": "OutputModel",
      "state": {
       "_dom_classes": [],
       "_model_module": "jupyter-js-widgets",
       "_model_module_version": "~2.1.4",
       "_view_module": "jupyter-js-widgets",
       "_view_module_version": "~2.1.4",
       "layout": "IPY_MODEL_5f170174a1604b8f9ad6bcb11b24f0c8",
       "msg_throttle": 1
      }
     },
     "4498279fdef84484a79e9bc842df9a4f": {
      "model_module": "jupyter-js-widgets",
      "model_module_version": "~2.1.4",
      "model_name": "LayoutModel",
      "state": {
       "_model_module_version": "~2.1.4",
       "_view_module_version": "~2.1.4"
      }
     },
     "45953891e96341fb9850c558d5225d6e": {
      "model_module": "jupyter-js-widgets",
      "model_module_version": "~2.1.4",
      "model_name": "LayoutModel",
      "state": {
       "_model_module_version": "~2.1.4",
       "_view_module_version": "~2.1.4"
      }
     },
     "45ad6c50fafc48b38c3d17dd77ab4952": {
      "model_module": "jupyter-js-widgets",
      "model_module_version": "~2.1.4",
      "model_name": "OutputModel",
      "state": {
       "_dom_classes": [],
       "_model_module": "jupyter-js-widgets",
       "_model_module_version": "~2.1.4",
       "_view_module": "jupyter-js-widgets",
       "_view_module_version": "~2.1.4",
       "layout": "IPY_MODEL_d9f2bfde0c10454faa85c9c48a4a0437",
       "msg_throttle": 1
      }
     },
     "45db1b43c2504d4ba812666b65352479": {
      "model_module": "jupyter-js-widgets",
      "model_module_version": "~2.1.4",
      "model_name": "LayoutModel",
      "state": {
       "_model_module_version": "~2.1.4",
       "_view_module_version": "~2.1.4"
      }
     },
     "460e22c9d9214937949ea570187e3656": {
      "model_module": "jupyter-js-widgets",
      "model_module_version": "~2.1.4",
      "model_name": "SliderStyleModel",
      "state": {
       "_model_module_version": "~2.1.4",
       "_view_module_version": "~2.1.4"
      }
     },
     "466a232c6a6e49bd88496485c728f86c": {
      "model_module": "jupyter-js-widgets",
      "model_module_version": "~2.1.4",
      "model_name": "OutputModel",
      "state": {
       "_dom_classes": [],
       "_model_module": "jupyter-js-widgets",
       "_model_module_version": "~2.1.4",
       "_view_module": "jupyter-js-widgets",
       "_view_module_version": "~2.1.4",
       "layout": "IPY_MODEL_c250b2d29b4440e58d72a979c8e63bc9",
       "msg_throttle": 1
      }
     },
     "47055f97a68e470880465fe38a4bc482": {
      "model_module": "jupyter-js-widgets",
      "model_module_version": "~2.1.4",
      "model_name": "LayoutModel",
      "state": {
       "_model_module_version": "~2.1.4",
       "_view_module_version": "~2.1.4"
      }
     },
     "488316d6815f4a5b970c068526b37b69": {
      "model_module": "jupyter-js-widgets",
      "model_module_version": "~2.1.4",
      "model_name": "SliderStyleModel",
      "state": {
       "_model_module_version": "~2.1.4",
       "_view_module_version": "~2.1.4"
      }
     },
     "4979bee8f5e74e18b6291b50a365b3c6": {
      "model_module": "jupyter-js-widgets",
      "model_module_version": "~2.1.4",
      "model_name": "SliderStyleModel",
      "state": {
       "_model_module_version": "~2.1.4",
       "_view_module_version": "~2.1.4"
      }
     },
     "498d70f2ad2d433fb22f70b57cfbd175": {
      "model_module": "jupyter-js-widgets",
      "model_module_version": "~2.1.4",
      "model_name": "SliderStyleModel",
      "state": {
       "_model_module_version": "~2.1.4",
       "_view_module_version": "~2.1.4"
      }
     },
     "49a7b5ce653d4609b2a8e1c22fd5d8d6": {
      "model_module": "jupyter-js-widgets",
      "model_module_version": "~2.1.4",
      "model_name": "LayoutModel",
      "state": {
       "_model_module_version": "~2.1.4",
       "_view_module_version": "~2.1.4"
      }
     },
     "4c58a8767ab644f5b2f140f50039ca93": {
      "model_module": "jupyter-js-widgets",
      "model_module_version": "~2.1.4",
      "model_name": "LayoutModel",
      "state": {
       "_model_module_version": "~2.1.4",
       "_view_module_version": "~2.1.4"
      }
     },
     "4fbaf5c384cc431d848bc98c6eb31f68": {
      "model_module": "jupyter-js-widgets",
      "model_module_version": "~2.1.4",
      "model_name": "LayoutModel",
      "state": {
       "_model_module_version": "~2.1.4",
       "_view_module_version": "~2.1.4"
      }
     },
     "4fbcc0e5e9b7470e9cae47a10315bee0": {
      "model_module": "jupyter-js-widgets",
      "model_module_version": "~2.1.4",
      "model_name": "SliderStyleModel",
      "state": {
       "_model_module_version": "~2.1.4",
       "_view_module_version": "~2.1.4"
      }
     },
     "5010abd0c5f04d2898f68dc7befa368d": {
      "model_module": "jupyter-js-widgets",
      "model_module_version": "~2.1.4",
      "model_name": "LayoutModel",
      "state": {
       "_model_module_version": "~2.1.4",
       "_view_module_version": "~2.1.4"
      }
     },
     "53370ffd1501429b9cba43387e8b8d2f": {
      "model_module": "jupyter-js-widgets",
      "model_module_version": "~2.1.4",
      "model_name": "LayoutModel",
      "state": {
       "_model_module_version": "~2.1.4",
       "_view_module_version": "~2.1.4"
      }
     },
     "537493334e2049e3ba31b68e57a1017b": {
      "model_module": "jupyter-js-widgets",
      "model_module_version": "~2.1.4",
      "model_name": "VBoxModel",
      "state": {
       "_dom_classes": [
        "widget-interact"
       ],
       "_model_module_version": "~2.1.4",
       "_view_module_version": "~2.1.4",
       "children": [
        "IPY_MODEL_8b52b6b3d1f14a29b5450a23130fdff1",
        "IPY_MODEL_a925896368a54478a0be120a51abe897"
       ],
       "layout": "IPY_MODEL_2b2dccfd705a4d12b171be41d4c156f1"
      }
     },
     "550c988d84894e14986eb079b148ce2a": {
      "model_module": "jupyter-js-widgets",
      "model_module_version": "~2.1.4",
      "model_name": "LayoutModel",
      "state": {
       "_model_module_version": "~2.1.4",
       "_view_module_version": "~2.1.4"
      }
     },
     "563a5bef422b439ca6bc4db3ae90113e": {
      "model_module": "jupyter-js-widgets",
      "model_module_version": "~2.1.4",
      "model_name": "LayoutModel",
      "state": {
       "_model_module_version": "~2.1.4",
       "_view_module_version": "~2.1.4"
      }
     },
     "56cee2b07b6a44f49e04738158c66ece": {
      "model_module": "jupyter-js-widgets",
      "model_module_version": "~2.1.4",
      "model_name": "OutputModel",
      "state": {
       "_dom_classes": [],
       "_model_module": "jupyter-js-widgets",
       "_model_module_version": "~2.1.4",
       "_view_module": "jupyter-js-widgets",
       "_view_module_version": "~2.1.4",
       "layout": "IPY_MODEL_ba078f60906c4a04be38b65c5c629678",
       "msg_throttle": 1
      }
     },
     "575cacd4c4bb42edb80b2ae3bc425e1d": {
      "model_module": "jupyter-js-widgets",
      "model_module_version": "~2.1.4",
      "model_name": "SliderStyleModel",
      "state": {
       "_model_module_version": "~2.1.4",
       "_view_module_version": "~2.1.4"
      }
     },
     "585dc1a4c7dd47339d2c5731ec3212ff": {
      "model_module": "jupyter-js-widgets",
      "model_module_version": "~2.1.4",
      "model_name": "OutputModel",
      "state": {
       "_dom_classes": [],
       "_model_module": "jupyter-js-widgets",
       "_model_module_version": "~2.1.4",
       "_view_module": "jupyter-js-widgets",
       "_view_module_version": "~2.1.4",
       "layout": "IPY_MODEL_85586ec4f00c4429aa0646a1df698733",
       "msg_throttle": 1
      }
     },
     "59494bec3d5d4df78bf014860a6950fd": {
      "model_module": "jupyter-js-widgets",
      "model_module_version": "~2.1.4",
      "model_name": "SliderStyleModel",
      "state": {
       "_model_module_version": "~2.1.4",
       "_view_module_version": "~2.1.4"
      }
     },
     "5b2f3475cbe54468a63d53bd96bd3ea2": {
      "model_module": "jupyter-js-widgets",
      "model_module_version": "~2.1.4",
      "model_name": "OutputModel",
      "state": {
       "_dom_classes": [],
       "_model_module": "jupyter-js-widgets",
       "_model_module_version": "~2.1.4",
       "_view_module": "jupyter-js-widgets",
       "_view_module_version": "~2.1.4",
       "layout": "IPY_MODEL_b50b589ad76a4dc287de8c0ea0c8d873",
       "msg_throttle": 1
      }
     },
     "5b804ad09967441698f996ae45e63d9d": {
      "model_module": "jupyter-js-widgets",
      "model_module_version": "~2.1.4",
      "model_name": "LayoutModel",
      "state": {
       "_model_module_version": "~2.1.4",
       "_view_module_version": "~2.1.4"
      }
     },
     "5caf6176914046a49d54a7fffee3427e": {
      "model_module": "jupyter-js-widgets",
      "model_module_version": "~2.1.4",
      "model_name": "LayoutModel",
      "state": {
       "_model_module_version": "~2.1.4",
       "_view_module_version": "~2.1.4"
      }
     },
     "5ef57305f892498a82b342b6ac52cd62": {
      "model_module": "jupyter-js-widgets",
      "model_module_version": "~2.1.4",
      "model_name": "LayoutModel",
      "state": {
       "_model_module_version": "~2.1.4",
       "_view_module_version": "~2.1.4"
      }
     },
     "5f170174a1604b8f9ad6bcb11b24f0c8": {
      "model_module": "jupyter-js-widgets",
      "model_module_version": "~2.1.4",
      "model_name": "LayoutModel",
      "state": {
       "_model_module_version": "~2.1.4",
       "_view_module_version": "~2.1.4"
      }
     },
     "60617425a3174471965a9b43b33e8a44": {
      "model_module": "jupyter-js-widgets",
      "model_module_version": "~2.1.4",
      "model_name": "LayoutModel",
      "state": {
       "_model_module_version": "~2.1.4",
       "_view_module_version": "~2.1.4"
      }
     },
     "614db61e045c4ab2bf03df18c1485958": {
      "model_module": "jupyter-js-widgets",
      "model_module_version": "~2.1.4",
      "model_name": "LayoutModel",
      "state": {
       "_model_module_version": "~2.1.4",
       "_view_module_version": "~2.1.4"
      }
     },
     "630130bd5b7b49df98487d00cb3522d8": {
      "model_module": "jupyter-js-widgets",
      "model_module_version": "~2.1.4",
      "model_name": "VBoxModel",
      "state": {
       "_dom_classes": [
        "widget-interact"
       ],
       "_model_module_version": "~2.1.4",
       "_view_module_version": "~2.1.4",
       "children": [
        "IPY_MODEL_ae9b51ce7aae4004bd0a72fb58539df2",
        "IPY_MODEL_ed1818a812cb4f2fb0a01c3ea7a34d4b"
       ],
       "layout": "IPY_MODEL_550c988d84894e14986eb079b148ce2a"
      }
     },
     "6312eee6c7914d368168641b20722673": {
      "model_module": "jupyter-js-widgets",
      "model_module_version": "~2.1.4",
      "model_name": "SliderStyleModel",
      "state": {
       "_model_module_version": "~2.1.4",
       "_view_module_version": "~2.1.4"
      }
     },
     "6365ef34bd25437186de4154cfb29e2f": {
      "model_module": "jupyter-js-widgets",
      "model_module_version": "~2.1.4",
      "model_name": "SliderStyleModel",
      "state": {
       "_model_module_version": "~2.1.4",
       "_view_module_version": "~2.1.4"
      }
     },
     "642228820aa94a1ca0b3b2e0e1f3ea58": {
      "model_module": "jupyter-js-widgets",
      "model_module_version": "~2.1.4",
      "model_name": "LayoutModel",
      "state": {
       "_model_module_version": "~2.1.4",
       "_view_module_version": "~2.1.4"
      }
     },
     "644a2a32d26a43db8933f150477eba48": {
      "model_module": "jupyter-js-widgets",
      "model_module_version": "~2.1.4",
      "model_name": "IntSliderModel",
      "state": {
       "_model_module_version": "~2.1.4",
       "_view_module_version": "~2.1.4",
       "description": "step",
       "layout": "IPY_MODEL_ebb83da79b7a4b759d9bbc2487175402",
       "max": 31,
       "style": "IPY_MODEL_aaeec8298e164589b2cd6909ee3d63f6",
       "value": 15
      }
     },
     "64852609c5a948c092606f80e803c894": {
      "model_module": "jupyter-js-widgets",
      "model_module_version": "~2.1.4",
      "model_name": "SliderStyleModel",
      "state": {
       "_model_module_version": "~2.1.4",
       "_view_module_version": "~2.1.4"
      }
     },
     "65cdcee2877b43d0969ffec3eeb0ad98": {
      "model_module": "jupyter-js-widgets",
      "model_module_version": "~2.1.4",
      "model_name": "SliderStyleModel",
      "state": {
       "_model_module_version": "~2.1.4",
       "_view_module_version": "~2.1.4"
      }
     },
     "673402aa9ab8406f819276ddbdbcf1b2": {
      "model_module": "jupyter-js-widgets",
      "model_module_version": "~2.1.4",
      "model_name": "LayoutModel",
      "state": {
       "_model_module_version": "~2.1.4",
       "_view_module_version": "~2.1.4"
      }
     },
     "67ad9939f5f744b4a9a98fac6d2d6d77": {
      "model_module": "jupyter-js-widgets",
      "model_module_version": "~2.1.4",
      "model_name": "VBoxModel",
      "state": {
       "_dom_classes": [
        "widget-interact"
       ],
       "_model_module_version": "~2.1.4",
       "_view_module_version": "~2.1.4",
       "children": [
        "IPY_MODEL_816f121675bc41d19435600af8e6599c",
        "IPY_MODEL_9818fd21bcaf4160a41a8cacec48c9df"
       ],
       "layout": "IPY_MODEL_379c69acca9b47fc80eddd3058671a94"
      }
     },
     "686cdfa41ca344f28a5a1ca83e88ec27": {
      "model_module": "jupyter-js-widgets",
      "model_module_version": "~2.1.4",
      "model_name": "VBoxModel",
      "state": {
       "_dom_classes": [
        "widget-interact"
       ],
       "_model_module_version": "~2.1.4",
       "_view_module_version": "~2.1.4",
       "children": [
        "IPY_MODEL_3bf34ad074a14db2ba57a66ef345d224",
        "IPY_MODEL_182cff9598cd448187f669d4ea8e9318"
       ],
       "layout": "IPY_MODEL_03e0d0c3927e4866827fe20e583d800e"
      }
     },
     "6a025c24395e4cbe9886eb700f214ef8": {
      "model_module": "jupyter-js-widgets",
      "model_module_version": "~2.1.4",
      "model_name": "LayoutModel",
      "state": {
       "_model_module_version": "~2.1.4",
       "_view_module_version": "~2.1.4"
      }
     },
     "6c5c3f77d25b45c9aa413c4e6dc46c66": {
      "model_module": "jupyter-js-widgets",
      "model_module_version": "~2.1.4",
      "model_name": "IntSliderModel",
      "state": {
       "_model_module_version": "~2.1.4",
       "_view_module_version": "~2.1.4",
       "description": "step",
       "layout": "IPY_MODEL_f23d0f5752964dd78e663a42ca563b93",
       "max": 15,
       "min": 1,
       "style": "IPY_MODEL_9d1512ea2c1644a69c06b5d7c90d8517",
       "value": 8
      }
     },
     "6ed739eb904447ef896cf04f55b726d2": {
      "model_module": "jupyter-js-widgets",
      "model_module_version": "~2.1.4",
      "model_name": "OutputModel",
      "state": {
       "_dom_classes": [],
       "_model_module": "jupyter-js-widgets",
       "_model_module_version": "~2.1.4",
       "_view_module": "jupyter-js-widgets",
       "_view_module_version": "~2.1.4",
       "layout": "IPY_MODEL_af3a2a9086c346c29a3b8e65dd370fbc",
       "msg_throttle": 1
      }
     },
     "6f288d79471745038d8c252426d28b55": {
      "model_module": "jupyter-js-widgets",
      "model_module_version": "~2.1.4",
      "model_name": "LayoutModel",
      "state": {
       "_model_module_version": "~2.1.4",
       "_view_module_version": "~2.1.4"
      }
     },
     "723fe94eb90e4edc85d64f9f48ff5c01": {
      "model_module": "jupyter-js-widgets",
      "model_module_version": "~2.1.4",
      "model_name": "SliderStyleModel",
      "state": {
       "_model_module_version": "~2.1.4",
       "_view_module_version": "~2.1.4"
      }
     },
     "727582416caa42acbf9f847ab88b49ed": {
      "model_module": "jupyter-js-widgets",
      "model_module_version": "~2.1.4",
      "model_name": "OutputModel",
      "state": {
       "_dom_classes": [],
       "_model_module": "jupyter-js-widgets",
       "_model_module_version": "~2.1.4",
       "_view_module": "jupyter-js-widgets",
       "_view_module_version": "~2.1.4",
       "layout": "IPY_MODEL_3988f2f12ad546d4944644ccf2f93f5a",
       "msg_throttle": 1
      }
     },
     "73f2e7246927475990afd2e82c9dbc63": {
      "model_module": "jupyter-js-widgets",
      "model_module_version": "~2.1.4",
      "model_name": "SliderStyleModel",
      "state": {
       "_model_module_version": "~2.1.4",
       "_view_module_version": "~2.1.4"
      }
     },
     "752123b6afec440896ccc015729aa4e8": {
      "model_module": "jupyter-js-widgets",
      "model_module_version": "~2.1.4",
      "model_name": "VBoxModel",
      "state": {
       "_dom_classes": [
        "widget-interact"
       ],
       "_model_module_version": "~2.1.4",
       "_view_module_version": "~2.1.4",
       "children": [
        "IPY_MODEL_3e89419dd8244b229b741cd4c0d3b8e8",
        "IPY_MODEL_19024a3b64464e53980428b2cd87a625"
       ],
       "layout": "IPY_MODEL_d0aac51414674b32989153baafaa7b34"
      }
     },
     "75775207252c4bbe8536e3e37dd666ac": {
      "model_module": "jupyter-js-widgets",
      "model_module_version": "~2.1.4",
      "model_name": "IntSliderModel",
      "state": {
       "_model_module_version": "~2.1.4",
       "_view_module_version": "~2.1.4",
       "description": "step",
       "layout": "IPY_MODEL_1b9f1236877840d5b83822ae757c8bd9",
       "max": 31,
       "style": "IPY_MODEL_6312eee6c7914d368168641b20722673",
       "value": 15
      }
     },
     "765ebe800bba46a4a5e7336f2e7877fe": {
      "model_module": "jupyter-js-widgets",
      "model_module_version": "~2.1.4",
      "model_name": "LayoutModel",
      "state": {
       "_model_module_version": "~2.1.4",
       "_view_module_version": "~2.1.4"
      }
     },
     "76a7630f3d494f26a74a64d4a89191a3": {
      "model_module": "jupyter-js-widgets",
      "model_module_version": "~2.1.4",
      "model_name": "LayoutModel",
      "state": {
       "_model_module_version": "~2.1.4",
       "_view_module_version": "~2.1.4"
      }
     },
     "771916a7b0eb487b837c43b154eb0e17": {
      "model_module": "jupyter-js-widgets",
      "model_module_version": "~2.1.4",
      "model_name": "VBoxModel",
      "state": {
       "_dom_classes": [
        "widget-interact"
       ],
       "_model_module_version": "~2.1.4",
       "_view_module_version": "~2.1.4",
       "children": [
        "IPY_MODEL_ad7b55bbddf545ef9b1d41416e9cf4ef",
        "IPY_MODEL_585dc1a4c7dd47339d2c5731ec3212ff"
       ],
       "layout": "IPY_MODEL_cbc8afc5b9c64fa684aa2275957d76c1"
      }
     },
     "793b2c5fda3b454788ffa944dc425a45": {
      "model_module": "jupyter-js-widgets",
      "model_module_version": "~2.1.4",
      "model_name": "OutputModel",
      "state": {
       "_dom_classes": [],
       "_model_module": "jupyter-js-widgets",
       "_model_module_version": "~2.1.4",
       "_view_module": "jupyter-js-widgets",
       "_view_module_version": "~2.1.4",
       "layout": "IPY_MODEL_6f288d79471745038d8c252426d28b55",
       "msg_throttle": 1
      }
     },
     "794a3cec4f1f4c78bd986e749af0ef0e": {
      "model_module": "jupyter-js-widgets",
      "model_module_version": "~2.1.4",
      "model_name": "SliderStyleModel",
      "state": {
       "_model_module_version": "~2.1.4",
       "_view_module_version": "~2.1.4"
      }
     },
     "7bb89dd95d8d42daac43ac6c1dda6051": {
      "model_module": "jupyter-js-widgets",
      "model_module_version": "~2.1.4",
      "model_name": "LayoutModel",
      "state": {
       "_model_module_version": "~2.1.4",
       "_view_module_version": "~2.1.4"
      }
     },
     "7f7121a84a8b44f3b56337fad8019734": {
      "model_module": "jupyter-js-widgets",
      "model_module_version": "~2.1.4",
      "model_name": "SliderStyleModel",
      "state": {
       "_model_module_version": "~2.1.4",
       "_view_module_version": "~2.1.4"
      }
     },
     "816f121675bc41d19435600af8e6599c": {
      "model_module": "jupyter-js-widgets",
      "model_module_version": "~2.1.4",
      "model_name": "IntSliderModel",
      "state": {
       "_model_module_version": "~2.1.4",
       "_view_module_version": "~2.1.4",
       "description": "step",
       "layout": "IPY_MODEL_2e1232705bb94e10967c7170acb23d00",
       "max": 31,
       "min": 1,
       "style": "IPY_MODEL_3d5da6fb4efd446e841f6add2616301f",
       "value": 2
      }
     },
     "819f32dfc62e4f4dbe57f921bddf9a44": {
      "model_module": "jupyter-js-widgets",
      "model_module_version": "~2.1.4",
      "model_name": "VBoxModel",
      "state": {
       "_dom_classes": [
        "widget-interact"
       ],
       "_model_module_version": "~2.1.4",
       "_view_module_version": "~2.1.4",
       "children": [
        "IPY_MODEL_f47eb37c6fac4158aac7b4f77a8c8ade",
        "IPY_MODEL_298d9d59f3644238a373648755ae0186"
       ],
       "layout": "IPY_MODEL_45db1b43c2504d4ba812666b65352479"
      }
     },
     "828b5cda0d4f40aaa55e0d6e8e94a81d": {
      "model_module": "jupyter-js-widgets",
      "model_module_version": "~2.1.4",
      "model_name": "OutputModel",
      "state": {
       "_dom_classes": [],
       "_model_module": "jupyter-js-widgets",
       "_model_module_version": "~2.1.4",
       "_view_module": "jupyter-js-widgets",
       "_view_module_version": "~2.1.4",
       "layout": "IPY_MODEL_09cd1e52a37e4faea27d893e5605f2b7",
       "msg_throttle": 1
      }
     },
     "82db3f2409d24e94b80e07e239b33f8c": {
      "model_module": "jupyter-js-widgets",
      "model_module_version": "~2.1.4",
      "model_name": "IntSliderModel",
      "state": {
       "_model_module_version": "~2.1.4",
       "_view_module_version": "~2.1.4",
       "description": "step",
       "layout": "IPY_MODEL_ddc667b097294a259da4bc14aee048f1",
       "max": 30,
       "style": "IPY_MODEL_64852609c5a948c092606f80e803c894",
       "value": 30
      }
     },
     "839d16e35f704eca80a4902764d4a023": {
      "model_module": "jupyter-js-widgets",
      "model_module_version": "~2.1.4",
      "model_name": "LayoutModel",
      "state": {
       "_model_module_version": "~2.1.4",
       "_view_module_version": "~2.1.4"
      }
     },
     "851b8ba8b0084ab1b86ea4055bb6fea2": {
      "model_module": "jupyter-js-widgets",
      "model_module_version": "~2.1.4",
      "model_name": "SliderStyleModel",
      "state": {
       "_model_module_version": "~2.1.4",
       "_view_module_version": "~2.1.4"
      }
     },
     "85586ec4f00c4429aa0646a1df698733": {
      "model_module": "jupyter-js-widgets",
      "model_module_version": "~2.1.4",
      "model_name": "LayoutModel",
      "state": {
       "_model_module_version": "~2.1.4",
       "_view_module_version": "~2.1.4"
      }
     },
     "863e789a64f147c6b76a165e9cb74a0b": {
      "model_module": "jupyter-js-widgets",
      "model_module_version": "~2.1.4",
      "model_name": "LayoutModel",
      "state": {
       "_model_module_version": "~2.1.4",
       "_view_module_version": "~2.1.4"
      }
     },
     "8658a714b713491e86c3c0ac6c51743e": {
      "model_module": "jupyter-js-widgets",
      "model_module_version": "~2.1.4",
      "model_name": "LayoutModel",
      "state": {
       "_model_module_version": "~2.1.4",
       "_view_module_version": "~2.1.4"
      }
     },
     "86e64e9a14f544efb8d7368bae924eb4": {
      "model_module": "jupyter-js-widgets",
      "model_module_version": "~2.1.4",
      "model_name": "LayoutModel",
      "state": {
       "_model_module_version": "~2.1.4",
       "_view_module_version": "~2.1.4"
      }
     },
     "8747194d08cc4e48a838dd7f7c88ddd4": {
      "model_module": "jupyter-js-widgets",
      "model_module_version": "~2.1.4",
      "model_name": "VBoxModel",
      "state": {
       "_dom_classes": [
        "widget-interact"
       ],
       "_model_module_version": "~2.1.4",
       "_view_module_version": "~2.1.4",
       "children": [
        "IPY_MODEL_2fceec3e7f624351b399dcce20eba6e6",
        "IPY_MODEL_828b5cda0d4f40aaa55e0d6e8e94a81d"
       ],
       "layout": "IPY_MODEL_df8c8423e7fb446db4866e45bdb06d32"
      }
     },
     "88e73532200740658f7cd186a11623f3": {
      "model_module": "jupyter-js-widgets",
      "model_module_version": "~2.1.4",
      "model_name": "OutputModel",
      "state": {
       "_dom_classes": [],
       "_model_module": "jupyter-js-widgets",
       "_model_module_version": "~2.1.4",
       "_view_module": "jupyter-js-widgets",
       "_view_module_version": "~2.1.4",
       "layout": "IPY_MODEL_31bd0face1c34cb3a83b96d4eb81aed7",
       "msg_throttle": 1
      }
     },
     "893d8e53833348be818b7c89c4c56f9c": {
      "model_module": "jupyter-js-widgets",
      "model_module_version": "~2.1.4",
      "model_name": "VBoxModel",
      "state": {
       "_dom_classes": [
        "widget-interact"
       ],
       "_model_module_version": "~2.1.4",
       "_view_module_version": "~2.1.4",
       "children": [
        "IPY_MODEL_9c6ae349bff6459eb34c598d7ec0d38a",
        "IPY_MODEL_00312eec8c724cc68f4e455ee63e67f4"
       ],
       "layout": "IPY_MODEL_a53e87b55df34dec92005a3d9a311beb"
      }
     },
     "89982a78867c490694d939c8f67f5578": {
      "model_module": "jupyter-js-widgets",
      "model_module_version": "~2.1.4",
      "model_name": "LayoutModel",
      "state": {
       "_model_module_version": "~2.1.4",
       "_view_module_version": "~2.1.4"
      }
     },
     "89a236f4654a485aa8c12603bcfe9628": {
      "model_module": "jupyter-js-widgets",
      "model_module_version": "~2.1.4",
      "model_name": "OutputModel",
      "state": {
       "_dom_classes": [],
       "_model_module": "jupyter-js-widgets",
       "_model_module_version": "~2.1.4",
       "_view_module": "jupyter-js-widgets",
       "_view_module_version": "~2.1.4",
       "layout": "IPY_MODEL_aad4d1f8768b4361bc6ba61c66be7ee9",
       "msg_throttle": 1
      }
     },
     "89e1e5c50e1f45beb6a5254717c08b6e": {
      "model_module": "jupyter-js-widgets",
      "model_module_version": "~2.1.4",
      "model_name": "IntSliderModel",
      "state": {
       "_model_module_version": "~2.1.4",
       "_view_module_version": "~2.1.4",
       "description": "step",
       "layout": "IPY_MODEL_563a5bef422b439ca6bc4db3ae90113e",
       "max": 31,
       "style": "IPY_MODEL_4979bee8f5e74e18b6291b50a365b3c6"
      }
     },
     "8aa510e7361c42a79efd3c3409e2e513": {
      "model_module": "jupyter-js-widgets",
      "model_module_version": "~2.1.4",
      "model_name": "IntSliderModel",
      "state": {
       "_model_module_version": "~2.1.4",
       "_view_module_version": "~2.1.4",
       "description": "step",
       "layout": "IPY_MODEL_e7313155e6c9418e8e2649921337bc2e",
       "max": 15,
       "min": 1,
       "style": "IPY_MODEL_498d70f2ad2d433fb22f70b57cfbd175",
       "value": 12
      }
     },
     "8b52b6b3d1f14a29b5450a23130fdff1": {
      "model_module": "jupyter-js-widgets",
      "model_module_version": "~2.1.4",
      "model_name": "IntSliderModel",
      "state": {
       "_model_module_version": "~2.1.4",
       "_view_module_version": "~2.1.4",
       "description": "step",
       "layout": "IPY_MODEL_c76932773dc24937a2be1d208f55db21",
       "max": 31,
       "style": "IPY_MODEL_9d05fdd4851946bd8cfcd3589b3f09d2",
       "value": 31
      }
     },
     "8b8c19123331478c9a6200ca83d6badb": {
      "model_module": "jupyter-js-widgets",
      "model_module_version": "~2.1.4",
      "model_name": "OutputModel",
      "state": {
       "_dom_classes": [],
       "_model_module": "jupyter-js-widgets",
       "_model_module_version": "~2.1.4",
       "_view_module": "jupyter-js-widgets",
       "_view_module_version": "~2.1.4",
       "layout": "IPY_MODEL_89982a78867c490694d939c8f67f5578",
       "msg_throttle": 1
      }
     },
     "8d865e4f3ea04b5a8f52778ccfed15b8": {
      "model_module": "jupyter-js-widgets",
      "model_module_version": "~2.1.4",
      "model_name": "VBoxModel",
      "state": {
       "_dom_classes": [
        "widget-interact"
       ],
       "_model_module_version": "~2.1.4",
       "_view_module_version": "~2.1.4",
       "children": [
        "IPY_MODEL_e0e92ea3b6704b0581e1707d850a6281",
        "IPY_MODEL_d7ca20788bdc4e3fb5e98660d828d2b2"
       ],
       "layout": "IPY_MODEL_4c58a8767ab644f5b2f140f50039ca93"
      }
     },
     "916114db3376454ba261c4514a61d0a2": {
      "model_module": "jupyter-js-widgets",
      "model_module_version": "~2.1.4",
      "model_name": "LayoutModel",
      "state": {
       "_model_module_version": "~2.1.4",
       "_view_module_version": "~2.1.4"
      }
     },
     "94160f626c83470ea98c97cd19920073": {
      "model_module": "jupyter-js-widgets",
      "model_module_version": "~2.1.4",
      "model_name": "IntSliderModel",
      "state": {
       "_model_module_version": "~2.1.4",
       "_view_module_version": "~2.1.4",
       "description": "step",
       "layout": "IPY_MODEL_27894e8570b4443388cc40e46ad480d8",
       "max": 31,
       "min": 1,
       "style": "IPY_MODEL_b29110d574554653a88bd658cf46bef4",
       "value": 20
      }
     },
     "94413085d2fa4f02a7d082fd06807a21": {
      "model_module": "jupyter-js-widgets",
      "model_module_version": "~2.1.4",
      "model_name": "SliderStyleModel",
      "state": {
       "_model_module_version": "~2.1.4",
       "_view_module_version": "~2.1.4"
      }
     },
     "946a5d3350fb435e868ab9479adfcb9c": {
      "model_module": "jupyter-js-widgets",
      "model_module_version": "~2.1.4",
      "model_name": "SliderStyleModel",
      "state": {
       "_model_module_version": "~2.1.4",
       "_view_module_version": "~2.1.4"
      }
     },
     "952c1e1a1c1e40b4ace7a0e65f2371d5": {
      "model_module": "jupyter-js-widgets",
      "model_module_version": "~2.1.4",
      "model_name": "VBoxModel",
      "state": {
       "_dom_classes": [
        "widget-interact"
       ],
       "_model_module_version": "~2.1.4",
       "_view_module_version": "~2.1.4",
       "children": [
        "IPY_MODEL_2ed6a633c69f479b84d31042cba910b5",
        "IPY_MODEL_1275d71fb2da4df0a6c771b5a813f9cf"
       ],
       "layout": "IPY_MODEL_ce2d5c2de27344259a54dcd4fd74d30b"
      }
     },
     "95dbfd7fae404ce4a1eea80af83f2045": {
      "model_module": "jupyter-js-widgets",
      "model_module_version": "~2.1.4",
      "model_name": "OutputModel",
      "state": {
       "_dom_classes": [],
       "_model_module": "jupyter-js-widgets",
       "_model_module_version": "~2.1.4",
       "_view_module": "jupyter-js-widgets",
       "_view_module_version": "~2.1.4",
       "layout": "IPY_MODEL_2b032943faaf4af788be5927dd5ab1c0",
       "msg_throttle": 1
      }
     },
     "966ec61eb20a4de58e93e2fbf2923c11": {
      "model_module": "jupyter-js-widgets",
      "model_module_version": "~2.1.4",
      "model_name": "IntSliderModel",
      "state": {
       "_model_module_version": "~2.1.4",
       "_view_module_version": "~2.1.4",
       "description": "step",
       "layout": "IPY_MODEL_0ce3422a71e945918b7bb6148a248512",
       "max": 3,
       "min": 1,
       "style": "IPY_MODEL_851b8ba8b0084ab1b86ea4055bb6fea2",
       "value": 1
      }
     },
     "96d48aaf428f4b4c96747d70482323dc": {
      "model_module": "jupyter-js-widgets",
      "model_module_version": "~2.1.4",
      "model_name": "IntSliderModel",
      "state": {
       "_model_module_version": "~2.1.4",
       "_view_module_version": "~2.1.4",
       "description": "step",
       "layout": "IPY_MODEL_ca2c6b90b2de442095976f59e74e3028",
       "max": 15,
       "min": 1,
       "style": "IPY_MODEL_6365ef34bd25437186de4154cfb29e2f",
       "value": 15
      }
     },
     "976e35bcc9fd457689d1f2a47d03ebb9": {
      "model_module": "jupyter-js-widgets",
      "model_module_version": "~2.1.4",
      "model_name": "IntSliderModel",
      "state": {
       "_model_module_version": "~2.1.4",
       "_view_module_version": "~2.1.4",
       "description": "step",
       "layout": "IPY_MODEL_5b804ad09967441698f996ae45e63d9d",
       "max": 31,
       "style": "IPY_MODEL_460e22c9d9214937949ea570187e3656",
       "value": 1
      }
     },
     "9818fd21bcaf4160a41a8cacec48c9df": {
      "model_module": "jupyter-js-widgets",
      "model_module_version": "~2.1.4",
      "model_name": "OutputModel",
      "state": {
       "_dom_classes": [],
       "_model_module": "jupyter-js-widgets",
       "_model_module_version": "~2.1.4",
       "_view_module": "jupyter-js-widgets",
       "_view_module_version": "~2.1.4",
       "layout": "IPY_MODEL_4fbaf5c384cc431d848bc98c6eb31f68",
       "msg_throttle": 1
      }
     },
     "98bc2a7162eb4856b2f31005e241ce01": {
      "model_module": "jupyter-js-widgets",
      "model_module_version": "~2.1.4",
      "model_name": "LayoutModel",
      "state": {
       "_model_module_version": "~2.1.4",
       "_view_module_version": "~2.1.4"
      }
     },
     "9b194ab2e8b94230a951e066d99e7872": {
      "model_module": "jupyter-js-widgets",
      "model_module_version": "~2.1.4",
      "model_name": "IntSliderModel",
      "state": {
       "_model_module_version": "~2.1.4",
       "_view_module_version": "~2.1.4",
       "description": "step",
       "layout": "IPY_MODEL_b8fc4a2e8e89451aa7b2d17f09b3f483",
       "max": 15,
       "min": 1,
       "style": "IPY_MODEL_3b031710ae13404fa8f02ad12e52e8a4",
       "value": 1
      }
     },
     "9c6ae349bff6459eb34c598d7ec0d38a": {
      "model_module": "jupyter-js-widgets",
      "model_module_version": "~2.1.4",
      "model_name": "IntSliderModel",
      "state": {
       "_model_module_version": "~2.1.4",
       "_view_module_version": "~2.1.4",
       "description": "step",
       "layout": "IPY_MODEL_fda71dba24b14540bbd9a32930068a75",
       "max": 1,
       "min": 1,
       "style": "IPY_MODEL_94413085d2fa4f02a7d082fd06807a21",
       "value": 1
      }
     },
     "9cb7c5e09e894f3398240da0c0bbceae": {
      "model_module": "jupyter-js-widgets",
      "model_module_version": "~2.1.4",
      "model_name": "IntSliderModel",
      "state": {
       "_model_module_version": "~2.1.4",
       "_view_module_version": "~2.1.4",
       "description": "step",
       "layout": "IPY_MODEL_e42904bae9c34dc3a1825bf5eb97ca09",
       "max": 3,
       "style": "IPY_MODEL_29ff1f6b509d442380755d85c50ca1e6"
      }
     },
     "9d05fdd4851946bd8cfcd3589b3f09d2": {
      "model_module": "jupyter-js-widgets",
      "model_module_version": "~2.1.4",
      "model_name": "SliderStyleModel",
      "state": {
       "_model_module_version": "~2.1.4",
       "_view_module_version": "~2.1.4"
      }
     },
     "9d1512ea2c1644a69c06b5d7c90d8517": {
      "model_module": "jupyter-js-widgets",
      "model_module_version": "~2.1.4",
      "model_name": "SliderStyleModel",
      "state": {
       "_model_module_version": "~2.1.4",
       "_view_module_version": "~2.1.4"
      }
     },
     "9d34aced3e6043c5b3b2b6682d77f5f2": {
      "model_module": "jupyter-js-widgets",
      "model_module_version": "~2.1.4",
      "model_name": "SliderStyleModel",
      "state": {
       "_model_module_version": "~2.1.4",
       "_view_module_version": "~2.1.4"
      }
     },
     "a00badba2caa4605bccdf90046dac692": {
      "model_module": "jupyter-js-widgets",
      "model_module_version": "~2.1.4",
      "model_name": "LayoutModel",
      "state": {
       "_model_module_version": "~2.1.4",
       "_view_module_version": "~2.1.4"
      }
     },
     "a20b960b26a745f1a48de99436d521fc": {
      "model_module": "jupyter-js-widgets",
      "model_module_version": "~2.1.4",
      "model_name": "IntSliderModel",
      "state": {
       "_model_module_version": "~2.1.4",
       "_view_module_version": "~2.1.4",
       "description": "step",
       "layout": "IPY_MODEL_3a9ded36bde54e868f6af0a117093b60",
       "max": 15,
       "min": 1,
       "style": "IPY_MODEL_c3c8fd9139764591b7a3f41c76239585",
       "value": 1
      }
     },
     "a4cdd62c56574da38867a483470659cf": {
      "model_module": "jupyter-js-widgets",
      "model_module_version": "~2.1.4",
      "model_name": "OutputModel",
      "state": {
       "_dom_classes": [],
       "_model_module": "jupyter-js-widgets",
       "_model_module_version": "~2.1.4",
       "_view_module": "jupyter-js-widgets",
       "_view_module_version": "~2.1.4",
       "layout": "IPY_MODEL_c84338b9a5df44dab6e3a083ef6ab54f",
       "msg_throttle": 1
      }
     },
     "a4eb83cf0608472994da862aaef3b629": {
      "model_module": "jupyter-js-widgets",
      "model_module_version": "~2.1.4",
      "model_name": "IntSliderModel",
      "state": {
       "_model_module_version": "~2.1.4",
       "_view_module_version": "~2.1.4",
       "description": "step",
       "layout": "IPY_MODEL_916114db3376454ba261c4514a61d0a2",
       "max": 31,
       "style": "IPY_MODEL_59494bec3d5d4df78bf014860a6950fd",
       "value": 15
      }
     },
     "a53e87b55df34dec92005a3d9a311beb": {
      "model_module": "jupyter-js-widgets",
      "model_module_version": "~2.1.4",
      "model_name": "LayoutModel",
      "state": {
       "_model_module_version": "~2.1.4",
       "_view_module_version": "~2.1.4"
      }
     },
     "a5e3fe11fd1f4d93a219272579f9b4a3": {
      "model_module": "jupyter-js-widgets",
      "model_module_version": "~2.1.4",
      "model_name": "LayoutModel",
      "state": {
       "_model_module_version": "~2.1.4",
       "_view_module_version": "~2.1.4"
      }
     },
     "a801432670bb4698abe85d1409168e9e": {
      "model_module": "jupyter-js-widgets",
      "model_module_version": "~2.1.4",
      "model_name": "VBoxModel",
      "state": {
       "_dom_classes": [
        "widget-interact"
       ],
       "_model_module_version": "~2.1.4",
       "_view_module_version": "~2.1.4",
       "children": [
        "IPY_MODEL_324ff835c6894bb7a9a71041a8ae9a06",
        "IPY_MODEL_88e73532200740658f7cd186a11623f3"
       ],
       "layout": "IPY_MODEL_d204bb65b31d44a5ac3be051673b49b5"
      }
     },
     "a88145032e9f45fca9e61f1f458fa119": {
      "model_module": "jupyter-js-widgets",
      "model_module_version": "~2.1.4",
      "model_name": "OutputModel",
      "state": {
       "_dom_classes": [],
       "_model_module": "jupyter-js-widgets",
       "_model_module_version": "~2.1.4",
       "_view_module": "jupyter-js-widgets",
       "_view_module_version": "~2.1.4",
       "layout": "IPY_MODEL_1da47e5ce7444b88ac57d3b5f77717a9",
       "msg_throttle": 1
      }
     },
     "a8dd67e99d734108b4f2d1c711dab650": {
      "model_module": "jupyter-js-widgets",
      "model_module_version": "~2.1.4",
      "model_name": "LayoutModel",
      "state": {
       "_model_module_version": "~2.1.4",
       "_view_module_version": "~2.1.4"
      }
     },
     "a925896368a54478a0be120a51abe897": {
      "model_module": "jupyter-js-widgets",
      "model_module_version": "~2.1.4",
      "model_name": "OutputModel",
      "state": {
       "_dom_classes": [],
       "_model_module": "jupyter-js-widgets",
       "_model_module_version": "~2.1.4",
       "_view_module": "jupyter-js-widgets",
       "_view_module_version": "~2.1.4",
       "layout": "IPY_MODEL_53370ffd1501429b9cba43387e8b8d2f",
       "msg_throttle": 1
      }
     },
     "aad4d1f8768b4361bc6ba61c66be7ee9": {
      "model_module": "jupyter-js-widgets",
      "model_module_version": "~2.1.4",
      "model_name": "LayoutModel",
      "state": {
       "_model_module_version": "~2.1.4",
       "_view_module_version": "~2.1.4"
      }
     },
     "aaeec8298e164589b2cd6909ee3d63f6": {
      "model_module": "jupyter-js-widgets",
      "model_module_version": "~2.1.4",
      "model_name": "SliderStyleModel",
      "state": {
       "_model_module_version": "~2.1.4",
       "_view_module_version": "~2.1.4"
      }
     },
     "aca0e5a280a5438c9aa9fdcf2903224c": {
      "model_module": "jupyter-js-widgets",
      "model_module_version": "~2.1.4",
      "model_name": "IntSliderModel",
      "state": {
       "_model_module_version": "~2.1.4",
       "_view_module_version": "~2.1.4",
       "description": "step",
       "layout": "IPY_MODEL_bed3b18679d34eb7b3b17e115eef6992",
       "max": 31,
       "style": "IPY_MODEL_4fbcc0e5e9b7470e9cae47a10315bee0",
       "value": 15
      }
     },
     "ad14ef13e7784f63ac34d424db4c29db": {
      "model_module": "jupyter-js-widgets",
      "model_module_version": "~2.1.4",
      "model_name": "VBoxModel",
      "state": {
       "_dom_classes": [
        "widget-interact"
       ],
       "_model_module_version": "~2.1.4",
       "_view_module_version": "~2.1.4",
       "children": [
        "IPY_MODEL_8aa510e7361c42a79efd3c3409e2e513",
        "IPY_MODEL_5b2f3475cbe54468a63d53bd96bd3ea2"
       ],
       "layout": "IPY_MODEL_f071318f13644a3db2600e1e62d57ec5"
      }
     },
     "ad7b55bbddf545ef9b1d41416e9cf4ef": {
      "model_module": "jupyter-js-widgets",
      "model_module_version": "~2.1.4",
      "model_name": "IntSliderModel",
      "state": {
       "_model_module_version": "~2.1.4",
       "_view_module_version": "~2.1.4",
       "description": "step",
       "layout": "IPY_MODEL_3494a706dbe94a9880f44edc317dd49b",
       "max": 31,
       "min": 1,
       "style": "IPY_MODEL_fd2c3d0e0a164b03ab476bd208671d16",
       "value": 16
      }
     },
     "ae9b51ce7aae4004bd0a72fb58539df2": {
      "model_module": "jupyter-js-widgets",
      "model_module_version": "~2.1.4",
      "model_name": "IntSliderModel",
      "state": {
       "_model_module_version": "~2.1.4",
       "_view_module_version": "~2.1.4",
       "description": "step",
       "layout": "IPY_MODEL_2edaf78e2ab04675948217d42cc040d5",
       "max": 15,
       "min": 1,
       "style": "IPY_MODEL_b17dc0fac8b441d6a9fe928393b2a655",
       "value": 1
      }
     },
     "af3a2a9086c346c29a3b8e65dd370fbc": {
      "model_module": "jupyter-js-widgets",
      "model_module_version": "~2.1.4",
      "model_name": "LayoutModel",
      "state": {
       "_model_module_version": "~2.1.4",
       "_view_module_version": "~2.1.4"
      }
     },
     "af495f869fe34b59910332ec6b3c3804": {
      "model_module": "jupyter-js-widgets",
      "model_module_version": "~2.1.4",
      "model_name": "VBoxModel",
      "state": {
       "_dom_classes": [
        "widget-interact"
       ],
       "_model_module_version": "~2.1.4",
       "_view_module_version": "~2.1.4",
       "children": [
        "IPY_MODEL_a4eb83cf0608472994da862aaef3b629",
        "IPY_MODEL_793b2c5fda3b454788ffa944dc425a45"
       ],
       "layout": "IPY_MODEL_e8f15bc6d61248fbbb04f83e5db1940e"
      }
     },
     "b17dc0fac8b441d6a9fe928393b2a655": {
      "model_module": "jupyter-js-widgets",
      "model_module_version": "~2.1.4",
      "model_name": "SliderStyleModel",
      "state": {
       "_model_module_version": "~2.1.4",
       "_view_module_version": "~2.1.4"
      }
     },
     "b29110d574554653a88bd658cf46bef4": {
      "model_module": "jupyter-js-widgets",
      "model_module_version": "~2.1.4",
      "model_name": "SliderStyleModel",
      "state": {
       "_model_module_version": "~2.1.4",
       "_view_module_version": "~2.1.4"
      }
     },
     "b354d5632d814549ab3d7c32d69fbffe": {
      "model_module": "jupyter-js-widgets",
      "model_module_version": "~2.1.4",
      "model_name": "VBoxModel",
      "state": {
       "_dom_classes": [
        "widget-interact"
       ],
       "_model_module_version": "~2.1.4",
       "_view_module_version": "~2.1.4",
       "children": [
        "IPY_MODEL_a20b960b26a745f1a48de99436d521fc",
        "IPY_MODEL_95dbfd7fae404ce4a1eea80af83f2045"
       ],
       "layout": "IPY_MODEL_213cc5b44f4a471396a072f45da93dd2"
      }
     },
     "b4b07df4587942a59e4235765c6cb790": {
      "model_module": "jupyter-js-widgets",
      "model_module_version": "~2.1.4",
      "model_name": "OutputModel",
      "state": {
       "_dom_classes": [],
       "_model_module": "jupyter-js-widgets",
       "_model_module_version": "~2.1.4",
       "_view_module": "jupyter-js-widgets",
       "_view_module_version": "~2.1.4",
       "layout": "IPY_MODEL_d1ef9994b3bd40bbba0507da87beaf7a",
       "msg_throttle": 1
      }
     },
     "b50b589ad76a4dc287de8c0ea0c8d873": {
      "model_module": "jupyter-js-widgets",
      "model_module_version": "~2.1.4",
      "model_name": "LayoutModel",
      "state": {
       "_model_module_version": "~2.1.4",
       "_view_module_version": "~2.1.4"
      }
     },
     "b87e974e214d41209e11149ee3446490": {
      "model_module": "jupyter-js-widgets",
      "model_module_version": "~2.1.4",
      "model_name": "LayoutModel",
      "state": {
       "_model_module_version": "~2.1.4",
       "_view_module_version": "~2.1.4"
      }
     },
     "b8fc4a2e8e89451aa7b2d17f09b3f483": {
      "model_module": "jupyter-js-widgets",
      "model_module_version": "~2.1.4",
      "model_name": "LayoutModel",
      "state": {
       "_model_module_version": "~2.1.4",
       "_view_module_version": "~2.1.4"
      }
     },
     "ba078f60906c4a04be38b65c5c629678": {
      "model_module": "jupyter-js-widgets",
      "model_module_version": "~2.1.4",
      "model_name": "LayoutModel",
      "state": {
       "_model_module_version": "~2.1.4",
       "_view_module_version": "~2.1.4"
      }
     },
     "ba40dfd78c524bb3ac92fcdc320f92ce": {
      "model_module": "jupyter-js-widgets",
      "model_module_version": "~2.1.4",
      "model_name": "LayoutModel",
      "state": {
       "_model_module_version": "~2.1.4",
       "_view_module_version": "~2.1.4"
      }
     },
     "bbf5e5c154bf416eb8260af72f32e36a": {
      "model_module": "jupyter-js-widgets",
      "model_module_version": "~2.1.4",
      "model_name": "SliderStyleModel",
      "state": {
       "_model_module_version": "~2.1.4",
       "_view_module_version": "~2.1.4"
      }
     },
     "bcc3a30eef794097b1a0ec665aebaf4d": {
      "model_module": "jupyter-js-widgets",
      "model_module_version": "~2.1.4",
      "model_name": "VBoxModel",
      "state": {
       "_dom_classes": [
        "widget-interact"
       ],
       "_model_module_version": "~2.1.4",
       "_view_module_version": "~2.1.4",
       "children": [
        "IPY_MODEL_06bbade9e8b2430b95ab64d6b58a25f3",
        "IPY_MODEL_c8b7edf8a5cb429eabfac5afc9ed2788"
       ],
       "layout": "IPY_MODEL_ee56a6b62f764a239a100d8d2549a0ee"
      }
     },
     "bdbfeba767c442ee84b7c6dc89c6cd85": {
      "model_module": "jupyter-js-widgets",
      "model_module_version": "~2.1.4",
      "model_name": "LayoutModel",
      "state": {
       "_model_module_version": "~2.1.4",
       "_view_module_version": "~2.1.4"
      }
     },
     "bed3b18679d34eb7b3b17e115eef6992": {
      "model_module": "jupyter-js-widgets",
      "model_module_version": "~2.1.4",
      "model_name": "LayoutModel",
      "state": {
       "_model_module_version": "~2.1.4",
       "_view_module_version": "~2.1.4"
      }
     },
     "c016a98796064df081828e471f7034ce": {
      "model_module": "jupyter-js-widgets",
      "model_module_version": "~2.1.4",
      "model_name": "VBoxModel",
      "state": {
       "_dom_classes": [
        "widget-interact"
       ],
       "_model_module_version": "~2.1.4",
       "_view_module_version": "~2.1.4",
       "children": [
        "IPY_MODEL_94160f626c83470ea98c97cd19920073",
        "IPY_MODEL_a88145032e9f45fca9e61f1f458fa119"
       ],
       "layout": "IPY_MODEL_4498279fdef84484a79e9bc842df9a4f"
      }
     },
     "c13ecceaafd545deb96f436a66d8f16f": {
      "model_module": "jupyter-js-widgets",
      "model_module_version": "~2.1.4",
      "model_name": "SliderStyleModel",
      "state": {
       "_model_module_version": "~2.1.4",
       "_view_module_version": "~2.1.4"
      }
     },
     "c250b2d29b4440e58d72a979c8e63bc9": {
      "model_module": "jupyter-js-widgets",
      "model_module_version": "~2.1.4",
      "model_name": "LayoutModel",
      "state": {
       "_model_module_version": "~2.1.4",
       "_view_module_version": "~2.1.4"
      }
     },
     "c3c8fd9139764591b7a3f41c76239585": {
      "model_module": "jupyter-js-widgets",
      "model_module_version": "~2.1.4",
      "model_name": "SliderStyleModel",
      "state": {
       "_model_module_version": "~2.1.4",
       "_view_module_version": "~2.1.4"
      }
     },
     "c42f5be7a8be456195da1a2446e76cb2": {
      "model_module": "jupyter-js-widgets",
      "model_module_version": "~2.1.4",
      "model_name": "LayoutModel",
      "state": {
       "_model_module_version": "~2.1.4",
       "_view_module_version": "~2.1.4"
      }
     },
     "c4932ca061cc46f2bdc291a78d3f49bc": {
      "model_module": "jupyter-js-widgets",
      "model_module_version": "~2.1.4",
      "model_name": "LayoutModel",
      "state": {
       "_model_module_version": "~2.1.4",
       "_view_module_version": "~2.1.4"
      }
     },
     "c61a8bc356b44294ac6760e32aa7d859": {
      "model_module": "jupyter-js-widgets",
      "model_module_version": "~2.1.4",
      "model_name": "LayoutModel",
      "state": {
       "_model_module_version": "~2.1.4",
       "_view_module_version": "~2.1.4"
      }
     },
     "c6ef272060c249788e1abe7ddec206b1": {
      "model_module": "jupyter-js-widgets",
      "model_module_version": "~2.1.4",
      "model_name": "LayoutModel",
      "state": {
       "_model_module_version": "~2.1.4",
       "_view_module_version": "~2.1.4"
      }
     },
     "c754bfe42df949f5a5a02a4215274980": {
      "model_module": "jupyter-js-widgets",
      "model_module_version": "~2.1.4",
      "model_name": "VBoxModel",
      "state": {
       "_dom_classes": [
        "widget-interact"
       ],
       "_model_module_version": "~2.1.4",
       "_view_module_version": "~2.1.4",
       "layout": "IPY_MODEL_c42f5be7a8be456195da1a2446e76cb2"
      }
     },
     "c76932773dc24937a2be1d208f55db21": {
      "model_module": "jupyter-js-widgets",
      "model_module_version": "~2.1.4",
      "model_name": "LayoutModel",
      "state": {
       "_model_module_version": "~2.1.4",
       "_view_module_version": "~2.1.4"
      }
     },
     "c82aee3e85164f77a7792ca0f7a45bad": {
      "model_module": "jupyter-js-widgets",
      "model_module_version": "~2.1.4",
      "model_name": "LayoutModel",
      "state": {
       "_model_module_version": "~2.1.4",
       "_view_module_version": "~2.1.4"
      }
     },
     "c84338b9a5df44dab6e3a083ef6ab54f": {
      "model_module": "jupyter-js-widgets",
      "model_module_version": "~2.1.4",
      "model_name": "LayoutModel",
      "state": {
       "_model_module_version": "~2.1.4",
       "_view_module_version": "~2.1.4"
      }
     },
     "c8b7edf8a5cb429eabfac5afc9ed2788": {
      "model_module": "jupyter-js-widgets",
      "model_module_version": "~2.1.4",
      "model_name": "OutputModel",
      "state": {
       "_dom_classes": [],
       "_model_module": "jupyter-js-widgets",
       "_model_module_version": "~2.1.4",
       "_view_module": "jupyter-js-widgets",
       "_view_module_version": "~2.1.4",
       "layout": "IPY_MODEL_22f50895a44744b283f9e214cd0ab809",
       "msg_throttle": 1
      }
     },
     "c8bcc06d2ab24a379fedec7949692aa5": {
      "model_module": "jupyter-js-widgets",
      "model_module_version": "~2.1.4",
      "model_name": "OutputModel",
      "state": {
       "_dom_classes": [],
       "_model_module": "jupyter-js-widgets",
       "_model_module_version": "~2.1.4",
       "_view_module": "jupyter-js-widgets",
       "_view_module_version": "~2.1.4",
       "layout": "IPY_MODEL_60617425a3174471965a9b43b33e8a44",
       "msg_throttle": 1
      }
     },
     "ca2c6b90b2de442095976f59e74e3028": {
      "model_module": "jupyter-js-widgets",
      "model_module_version": "~2.1.4",
      "model_name": "LayoutModel",
      "state": {
       "_model_module_version": "~2.1.4",
       "_view_module_version": "~2.1.4"
      }
     },
     "cbc8afc5b9c64fa684aa2275957d76c1": {
      "model_module": "jupyter-js-widgets",
      "model_module_version": "~2.1.4",
      "model_name": "LayoutModel",
      "state": {
       "_model_module_version": "~2.1.4",
       "_view_module_version": "~2.1.4"
      }
     },
     "cce1367751c647f4802b6a5993b714b1": {
      "model_module": "jupyter-js-widgets",
      "model_module_version": "~2.1.4",
      "model_name": "SliderStyleModel",
      "state": {
       "_model_module_version": "~2.1.4",
       "_view_module_version": "~2.1.4"
      }
     },
     "ce2d5c2de27344259a54dcd4fd74d30b": {
      "model_module": "jupyter-js-widgets",
      "model_module_version": "~2.1.4",
      "model_name": "LayoutModel",
      "state": {
       "_model_module_version": "~2.1.4",
       "_view_module_version": "~2.1.4"
      }
     },
     "ce9a3d3eadea4574a92e89f119e4bea3": {
      "model_module": "jupyter-js-widgets",
      "model_module_version": "~2.1.4",
      "model_name": "LayoutModel",
      "state": {
       "_model_module_version": "~2.1.4",
       "_view_module_version": "~2.1.4"
      }
     },
     "d050948c2f1f4eef934efe85fce2956a": {
      "model_module": "jupyter-js-widgets",
      "model_module_version": "~2.1.4",
      "model_name": "VBoxModel",
      "state": {
       "_dom_classes": [
        "widget-interact"
       ],
       "_model_module_version": "~2.1.4",
       "_view_module_version": "~2.1.4",
       "children": [
        "IPY_MODEL_9cb7c5e09e894f3398240da0c0bbceae",
        "IPY_MODEL_727582416caa42acbf9f847ab88b49ed"
       ],
       "layout": "IPY_MODEL_bdbfeba767c442ee84b7c6dc89c6cd85"
      }
     },
     "d0aac51414674b32989153baafaa7b34": {
      "model_module": "jupyter-js-widgets",
      "model_module_version": "~2.1.4",
      "model_name": "LayoutModel",
      "state": {
       "_model_module_version": "~2.1.4",
       "_view_module_version": "~2.1.4"
      }
     },
     "d1ef9994b3bd40bbba0507da87beaf7a": {
      "model_module": "jupyter-js-widgets",
      "model_module_version": "~2.1.4",
      "model_name": "LayoutModel",
      "state": {
       "_model_module_version": "~2.1.4",
       "_view_module_version": "~2.1.4"
      }
     },
     "d204bb65b31d44a5ac3be051673b49b5": {
      "model_module": "jupyter-js-widgets",
      "model_module_version": "~2.1.4",
      "model_name": "LayoutModel",
      "state": {
       "_model_module_version": "~2.1.4",
       "_view_module_version": "~2.1.4"
      }
     },
     "d2da9de90794427b995669a06e7ed2c0": {
      "model_module": "jupyter-js-widgets",
      "model_module_version": "~2.1.4",
      "model_name": "VBoxModel",
      "state": {
       "_dom_classes": [
        "widget-interact"
       ],
       "_model_module_version": "~2.1.4",
       "_view_module_version": "~2.1.4",
       "children": [
        "IPY_MODEL_89e1e5c50e1f45beb6a5254717c08b6e",
        "IPY_MODEL_d9ec5ff5a1b44c46a9842d1d2544ce19"
       ],
       "layout": "IPY_MODEL_a5e3fe11fd1f4d93a219272579f9b4a3"
      }
     },
     "d6c0fec633a94eca8c40b06e66f7c456": {
      "model_module": "jupyter-js-widgets",
      "model_module_version": "~2.1.4",
      "model_name": "SliderStyleModel",
      "state": {
       "_model_module_version": "~2.1.4",
       "_view_module_version": "~2.1.4"
      }
     },
     "d7ca20788bdc4e3fb5e98660d828d2b2": {
      "model_module": "jupyter-js-widgets",
      "model_module_version": "~2.1.4",
      "model_name": "OutputModel",
      "state": {
       "_dom_classes": [],
       "_model_module": "jupyter-js-widgets",
       "_model_module_version": "~2.1.4",
       "_view_module": "jupyter-js-widgets",
       "_view_module_version": "~2.1.4",
       "layout": "IPY_MODEL_5010abd0c5f04d2898f68dc7befa368d",
       "msg_throttle": 1
      }
     },
     "d8b9e2580f814afab814852aea2ce820": {
      "model_module": "jupyter-js-widgets",
      "model_module_version": "~2.1.4",
      "model_name": "VBoxModel",
      "state": {
       "_dom_classes": [
        "widget-interact"
       ],
       "_model_module_version": "~2.1.4",
       "_view_module_version": "~2.1.4",
       "children": [
        "IPY_MODEL_9b194ab2e8b94230a951e066d99e7872",
        "IPY_MODEL_89a236f4654a485aa8c12603bcfe9628"
       ],
       "layout": "IPY_MODEL_a8dd67e99d734108b4f2d1c711dab650"
      }
     },
     "d9ec5ff5a1b44c46a9842d1d2544ce19": {
      "model_module": "jupyter-js-widgets",
      "model_module_version": "~2.1.4",
      "model_name": "OutputModel",
      "state": {
       "_dom_classes": [],
       "_model_module": "jupyter-js-widgets",
       "_model_module_version": "~2.1.4",
       "_view_module": "jupyter-js-widgets",
       "_view_module_version": "~2.1.4",
       "layout": "IPY_MODEL_765ebe800bba46a4a5e7336f2e7877fe",
       "msg_throttle": 1
      }
     },
     "d9f2bfde0c10454faa85c9c48a4a0437": {
      "model_module": "jupyter-js-widgets",
      "model_module_version": "~2.1.4",
      "model_name": "LayoutModel",
      "state": {
       "_model_module_version": "~2.1.4",
       "_view_module_version": "~2.1.4"
      }
     },
     "ddc667b097294a259da4bc14aee048f1": {
      "model_module": "jupyter-js-widgets",
      "model_module_version": "~2.1.4",
      "model_name": "LayoutModel",
      "state": {
       "_model_module_version": "~2.1.4",
       "_view_module_version": "~2.1.4"
      }
     },
     "dea04cc58afb4b6f9dfbbaad2943e969": {
      "model_module": "jupyter-js-widgets",
      "model_module_version": "~2.1.4",
      "model_name": "IntSliderModel",
      "state": {
       "_model_module_version": "~2.1.4",
       "_view_module_version": "~2.1.4",
       "description": "step",
       "layout": "IPY_MODEL_3a9dd71f87ed48838592f936cc2ba131",
       "max": 15,
       "min": 1,
       "style": "IPY_MODEL_946a5d3350fb435e868ab9479adfcb9c",
       "value": 1
      }
     },
     "df8c8423e7fb446db4866e45bdb06d32": {
      "model_module": "jupyter-js-widgets",
      "model_module_version": "~2.1.4",
      "model_name": "LayoutModel",
      "state": {
       "_model_module_version": "~2.1.4",
       "_view_module_version": "~2.1.4"
      }
     },
     "dfe534e490ee4dd9b8b15da1ee745a41": {
      "model_module": "jupyter-js-widgets",
      "model_module_version": "~2.1.4",
      "model_name": "OutputModel",
      "state": {
       "_dom_classes": [],
       "_model_module": "jupyter-js-widgets",
       "_model_module_version": "~2.1.4",
       "_view_module": "jupyter-js-widgets",
       "_view_module_version": "~2.1.4",
       "layout": "IPY_MODEL_76a7630f3d494f26a74a64d4a89191a3",
       "msg_throttle": 1
      }
     },
     "e0e92ea3b6704b0581e1707d850a6281": {
      "model_module": "jupyter-js-widgets",
      "model_module_version": "~2.1.4",
      "model_name": "IntSliderModel",
      "state": {
       "_model_module_version": "~2.1.4",
       "_view_module_version": "~2.1.4",
       "description": "step",
       "layout": "IPY_MODEL_49a7b5ce653d4609b2a8e1c22fd5d8d6",
       "max": 31,
       "style": "IPY_MODEL_f78749ad04ab4f8ab4df663d9a0a0fc9",
       "value": 1
      }
     },
     "e3046db7ec224dc4af7f2922493bf36f": {
      "model_module": "jupyter-js-widgets",
      "model_module_version": "~2.1.4",
      "model_name": "VBoxModel",
      "state": {
       "_dom_classes": [
        "widget-interact"
       ],
       "_model_module_version": "~2.1.4",
       "_view_module_version": "~2.1.4",
       "children": [
        "IPY_MODEL_dea04cc58afb4b6f9dfbbaad2943e969",
        "IPY_MODEL_f8f899ddd7564ab2846cbaa737911bb1"
       ],
       "layout": "IPY_MODEL_423b6a0b55e14fdab9b397b987486bd8"
      }
     },
     "e42904bae9c34dc3a1825bf5eb97ca09": {
      "model_module": "jupyter-js-widgets",
      "model_module_version": "~2.1.4",
      "model_name": "LayoutModel",
      "state": {
       "_model_module_version": "~2.1.4",
       "_view_module_version": "~2.1.4"
      }
     },
     "e5d24fbe1fbb4f9293dc93dba66ac7b5": {
      "model_module": "jupyter-js-widgets",
      "model_module_version": "~2.1.4",
      "model_name": "VBoxModel",
      "state": {
       "_dom_classes": [
        "widget-interact"
       ],
       "_model_module_version": "~2.1.4",
       "_view_module_version": "~2.1.4",
       "children": [
        "IPY_MODEL_966ec61eb20a4de58e93e2fbf2923c11",
        "IPY_MODEL_c8bcc06d2ab24a379fedec7949692aa5"
       ],
       "layout": "IPY_MODEL_839d16e35f704eca80a4902764d4a023"
      }
     },
     "e5e65bb084b24ce4b4e93521602090e5": {
      "model_module": "jupyter-js-widgets",
      "model_module_version": "~2.1.4",
      "model_name": "LayoutModel",
      "state": {
       "_model_module_version": "~2.1.4",
       "_view_module_version": "~2.1.4"
      }
     },
     "e7313155e6c9418e8e2649921337bc2e": {
      "model_module": "jupyter-js-widgets",
      "model_module_version": "~2.1.4",
      "model_name": "LayoutModel",
      "state": {
       "_model_module_version": "~2.1.4",
       "_view_module_version": "~2.1.4"
      }
     },
     "e7df2f02817d4b9ea2bb3d3181bed7f3": {
      "model_module": "jupyter-js-widgets",
      "model_module_version": "~2.1.4",
      "model_name": "OutputModel",
      "state": {
       "_dom_classes": [],
       "_model_module": "jupyter-js-widgets",
       "_model_module_version": "~2.1.4",
       "_view_module": "jupyter-js-widgets",
       "_view_module_version": "~2.1.4",
       "layout": "IPY_MODEL_ce9a3d3eadea4574a92e89f119e4bea3",
       "msg_throttle": 1
      }
     },
     "e8f15bc6d61248fbbb04f83e5db1940e": {
      "model_module": "jupyter-js-widgets",
      "model_module_version": "~2.1.4",
      "model_name": "LayoutModel",
      "state": {
       "_model_module_version": "~2.1.4",
       "_view_module_version": "~2.1.4"
      }
     },
     "ead78f247bcd40408b589bbc5794bf5a": {
      "model_module": "jupyter-js-widgets",
      "model_module_version": "~2.1.4",
      "model_name": "IntSliderModel",
      "state": {
       "_model_module_version": "~2.1.4",
       "_view_module_version": "~2.1.4",
       "description": "step",
       "layout": "IPY_MODEL_ba40dfd78c524bb3ac92fcdc320f92ce",
       "max": 31,
       "style": "IPY_MODEL_73f2e7246927475990afd2e82c9dbc63",
       "value": 15
      }
     },
     "ebb83da79b7a4b759d9bbc2487175402": {
      "model_module": "jupyter-js-widgets",
      "model_module_version": "~2.1.4",
      "model_name": "LayoutModel",
      "state": {
       "_model_module_version": "~2.1.4",
       "_view_module_version": "~2.1.4"
      }
     },
     "ed1818a812cb4f2fb0a01c3ea7a34d4b": {
      "model_module": "jupyter-js-widgets",
      "model_module_version": "~2.1.4",
      "model_name": "OutputModel",
      "state": {
       "_dom_classes": [],
       "_model_module": "jupyter-js-widgets",
       "_model_module_version": "~2.1.4",
       "_view_module": "jupyter-js-widgets",
       "_view_module_version": "~2.1.4",
       "layout": "IPY_MODEL_efb5094a68534dc9bf0b588641ab9a3e",
       "msg_throttle": 1
      }
     },
     "ee56a6b62f764a239a100d8d2549a0ee": {
      "model_module": "jupyter-js-widgets",
      "model_module_version": "~2.1.4",
      "model_name": "LayoutModel",
      "state": {
       "_model_module_version": "~2.1.4",
       "_view_module_version": "~2.1.4"
      }
     },
     "efb5094a68534dc9bf0b588641ab9a3e": {
      "model_module": "jupyter-js-widgets",
      "model_module_version": "~2.1.4",
      "model_name": "LayoutModel",
      "state": {
       "_model_module_version": "~2.1.4",
       "_view_module_version": "~2.1.4"
      }
     },
     "efd76ca159dd4ac5a3ddb318b72caf08": {
      "model_module": "jupyter-js-widgets",
      "model_module_version": "~2.1.4",
      "model_name": "VBoxModel",
      "state": {
       "_dom_classes": [
        "widget-interact"
       ],
       "_model_module_version": "~2.1.4",
       "_view_module_version": "~2.1.4",
       "children": [
        "IPY_MODEL_82db3f2409d24e94b80e07e239b33f8c",
        "IPY_MODEL_6ed739eb904447ef896cf04f55b726d2"
       ],
       "layout": "IPY_MODEL_1eaa42b2cd07403d9fbfdc782df8924b"
      }
     },
     "f071318f13644a3db2600e1e62d57ec5": {
      "model_module": "jupyter-js-widgets",
      "model_module_version": "~2.1.4",
      "model_name": "LayoutModel",
      "state": {
       "_model_module_version": "~2.1.4",
       "_view_module_version": "~2.1.4"
      }
     },
     "f23d0f5752964dd78e663a42ca563b93": {
      "model_module": "jupyter-js-widgets",
      "model_module_version": "~2.1.4",
      "model_name": "LayoutModel",
      "state": {
       "_model_module_version": "~2.1.4",
       "_view_module_version": "~2.1.4"
      }
     },
     "f27f2d5467d44b609b5d6687df249a4c": {
      "model_module": "jupyter-js-widgets",
      "model_module_version": "~2.1.4",
      "model_name": "LayoutModel",
      "state": {
       "_model_module_version": "~2.1.4",
       "_view_module_version": "~2.1.4"
      }
     },
     "f47eb37c6fac4158aac7b4f77a8c8ade": {
      "model_module": "jupyter-js-widgets",
      "model_module_version": "~2.1.4",
      "model_name": "IntSliderModel",
      "state": {
       "_model_module_version": "~2.1.4",
       "_view_module_version": "~2.1.4",
       "description": "step",
       "layout": "IPY_MODEL_c6ef272060c249788e1abe7ddec206b1",
       "max": 15,
       "style": "IPY_MODEL_65cdcee2877b43d0969ffec3eeb0ad98"
      }
     },
     "f747082da6794d13b34c48c096a1f8f9": {
      "model_module": "jupyter-js-widgets",
      "model_module_version": "~2.1.4",
      "model_name": "VBoxModel",
      "state": {
       "_dom_classes": [
        "widget-interact"
       ],
       "_model_module_version": "~2.1.4",
       "_view_module_version": "~2.1.4",
       "children": [
        "IPY_MODEL_41f6fee9a3da47148d74ec4bcf94ab15",
        "IPY_MODEL_56cee2b07b6a44f49e04738158c66ece"
       ],
       "layout": "IPY_MODEL_5caf6176914046a49d54a7fffee3427e"
      }
     },
     "f78749ad04ab4f8ab4df663d9a0a0fc9": {
      "model_module": "jupyter-js-widgets",
      "model_module_version": "~2.1.4",
      "model_name": "SliderStyleModel",
      "state": {
       "_model_module_version": "~2.1.4",
       "_view_module_version": "~2.1.4"
      }
     },
     "f872338bedcd42c1bbb9dbdf70a72ee1": {
      "model_module": "jupyter-js-widgets",
      "model_module_version": "~2.1.4",
      "model_name": "VBoxModel",
      "state": {
       "_dom_classes": [
        "widget-interact"
       ],
       "_model_module_version": "~2.1.4",
       "_view_module_version": "~2.1.4",
       "children": [
        "IPY_MODEL_2aa449d5c0ff40d183f34a181bea1189",
        "IPY_MODEL_dfe534e490ee4dd9b8b15da1ee745a41"
       ],
       "layout": "IPY_MODEL_7bb89dd95d8d42daac43ac6c1dda6051"
      }
     },
     "f8f899ddd7564ab2846cbaa737911bb1": {
      "model_module": "jupyter-js-widgets",
      "model_module_version": "~2.1.4",
      "model_name": "OutputModel",
      "state": {
       "_dom_classes": [],
       "_model_module": "jupyter-js-widgets",
       "_model_module_version": "~2.1.4",
       "_view_module": "jupyter-js-widgets",
       "_view_module_version": "~2.1.4",
       "layout": "IPY_MODEL_642228820aa94a1ca0b3b2e0e1f3ea58",
       "msg_throttle": 1
      }
     },
     "fa3d0355136a45928aa8d4e470a6c21b": {
      "model_module": "jupyter-js-widgets",
      "model_module_version": "~2.1.4",
      "model_name": "LayoutModel",
      "state": {
       "_model_module_version": "~2.1.4",
       "_view_module_version": "~2.1.4"
      }
     },
     "fd2c3d0e0a164b03ab476bd208671d16": {
      "model_module": "jupyter-js-widgets",
      "model_module_version": "~2.1.4",
      "model_name": "SliderStyleModel",
      "state": {
       "_model_module_version": "~2.1.4",
       "_view_module_version": "~2.1.4"
      }
     },
     "fda71dba24b14540bbd9a32930068a75": {
      "model_module": "jupyter-js-widgets",
      "model_module_version": "~2.1.4",
      "model_name": "LayoutModel",
      "state": {
       "_model_module_version": "~2.1.4",
       "_view_module_version": "~2.1.4"
      }
     }
    },
    "version_major": 1,
    "version_minor": 0
   }
  }
 },
 "nbformat": 4,
 "nbformat_minor": 1
}
